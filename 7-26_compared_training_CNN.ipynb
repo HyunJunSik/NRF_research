{
 "cells": [
  {
   "cell_type": "code",
   "execution_count": 14,
   "metadata": {},
   "outputs": [],
   "source": [
    "import pandas as pd\n",
    "import numpy as np"
   ]
  },
  {
   "cell_type": "code",
   "execution_count": 15,
   "metadata": {},
   "outputs": [],
   "source": [
    "traffic = pd.read_csv(\"../dataset/last_data/accident_0_min_before.csv\", encoding='cp949')\n",
    "traffic_5min = pd.read_csv(\"../dataset/last_data/accident_5_min_before.csv\", encoding='cp949')\n",
    "traffic_10min = pd.read_csv(\"../dataset/last_data/accident_10_min_before.csv\", encoding='cp949')\n",
    "traffic_15min = pd.read_csv(\"../dataset/last_data/accident_15_min_before.csv\", encoding='cp949')\n",
    "\n",
    "\n",
    "non_traffic = pd.read_csv(\"../dataset/last_data/non_accident_0_min_before.csv\", encoding='cp949')\n",
    "non_traffic_5min = pd.read_csv(\"../dataset/last_data/non_accident_5_min_before.csv\", encoding='cp949')\n",
    "non_traffic_10min = pd.read_csv(\"../dataset/last_data/non_accident_10_min_before.csv\", encoding='cp949')\n",
    "non_traffic_15min = pd.read_csv(\"../dataset/last_data/non_accident_15_min_before.csv\", encoding='cp949')"
   ]
  },
  {
   "cell_type": "code",
   "execution_count": 16,
   "metadata": {},
   "outputs": [],
   "source": [
    "# non_traffic에서 랜덤으로 25136개 추출\n",
    "non_traffic = non_traffic.sample(n=25136, random_state=42)\n",
    "non_traffic_5min = non_traffic_5min.sample(n=25136, random_state=42)\n",
    "non_traffic_10min = non_traffic_10min.sample(n=25136, random_state=42)\n",
    "non_traffic_15min = non_traffic_15min.sample(n=25136, random_state=42)"
   ]
  },
  {
   "cell_type": "code",
   "execution_count": 17,
   "metadata": {},
   "outputs": [],
   "source": [
    "static_traffic = traffic[['lanes', 'speed_limit', 'length', 'bump', 'camera',]]\n",
    "static_non_traffic = non_traffic[['lanes', 'speed_limit', 'length', 'bump', 'camera',]]"
   ]
  },
  {
   "cell_type": "code",
   "execution_count": 18,
   "metadata": {},
   "outputs": [],
   "source": [
    "drop_traffic_data = traffic.drop(['datetime', 'link', 'lanes','speed_limit','length', 'bump', 'camera' ,'label'], axis=1)\n",
    "drop_non_traffic_data = non_traffic.drop([ 'datetime', 'link', 'lanes','speed_limit','length','bump', 'camera', 'label'], axis=1)\n",
    "\n",
    "drop_traffic_data_5 = traffic_5min.drop(['datetime', 'link', 'lanes','speed_limit','length','bump', 'camera','label'], axis=1)\n",
    "drop_non_traffic_data_5 = non_traffic_5min.drop([ 'datetime', 'link', 'lanes','speed_limit','length', 'bump', 'camera','label'], axis=1)\n",
    "\n",
    "drop_traffic_data_10 = traffic_10min.drop(['datetime', 'link', 'lanes','speed_limit','length' ,'bump', 'camera','label'], axis=1)\n",
    "drop_non_traffic_data_10 = non_traffic_10min.drop([ 'datetime', 'link', 'lanes','speed_limit','length','bump', 'camera','label'], axis=1)\n",
    "\n",
    "drop_traffic_data_15 = traffic_15min.drop(['datetime', 'link', 'lanes','speed_limit','length', 'bump', 'camera','label'], axis=1)\n",
    "drop_non_traffic_data_15 = non_traffic_15min.drop(['datetime', 'link', 'lanes','speed_limit','length','bump', 'camera','label'], axis=1)\n",
    "\n",
    "traffic_label = traffic['label']\n",
    "non_traffic_label = non_traffic['label']"
   ]
  },
  {
   "cell_type": "code",
   "execution_count": 19,
   "metadata": {},
   "outputs": [],
   "source": [
    "dynamic_traffic_5 = drop_traffic_data_5.values\n",
    "dynamic_traffic_10 = drop_traffic_data_10.values\n",
    "dynamic_traffic_15 = drop_traffic_data_15.values\n",
    "\n",
    "dynamic_non_traffic_5 = drop_non_traffic_data_5.values\n",
    "dynamic_non_traffic_10 = drop_non_traffic_data_10.values\n",
    "dynamic_non_traffic_15 = drop_non_traffic_data_15.values\n",
    "\n",
    "traffic_label = traffic_label.values\n",
    "non_traffic_label = non_traffic_label.values\n",
    "\n",
    "static_traffic = static_traffic.values\n",
    "static_non_traffic = static_non_traffic.values"
   ]
  },
  {
   "cell_type": "code",
   "execution_count": 20,
   "metadata": {},
   "outputs": [],
   "source": [
    "accident_data_5min = np.concatenate((dynamic_traffic_5, static_traffic), axis=1)\n",
    "accident_data_10min = np.concatenate((dynamic_traffic_10, static_traffic), axis=1)\n",
    "accident_data_15min = np.concatenate((dynamic_traffic_15, static_traffic), axis=1)\n",
    "\n",
    "non_accident_data_5min = np.concatenate((dynamic_non_traffic_5, static_non_traffic), axis=1)\n",
    "non_accident_data_10min = np.concatenate((dynamic_non_traffic_10, static_non_traffic), axis=1)\n",
    "non_accident_data_15min = np.concatenate((dynamic_non_traffic_15, static_non_traffic), axis=1)"
   ]
  },
  {
   "cell_type": "code",
   "execution_count": 21,
   "metadata": {},
   "outputs": [],
   "source": [
    "from sklearn.model_selection import train_test_split\n",
    "\n",
    "X, Y = [], []\n",
    "\n",
    "for i in range(len(accident_data_5min)):\n",
    "    X.append([accident_data_15min[i], accident_data_10min[i], accident_data_5min[i]])\n",
    "    Y.append(traffic_label[i])\n",
    "\n",
    "for i in range(len(non_accident_data_5min)):\n",
    "    X.append([non_accident_data_15min[i], non_accident_data_10min[i], non_accident_data_5min[i]])\n",
    "    Y.append(non_traffic_label[i])\n",
    "\n",
    "\n",
    "X = np.array(X)\n",
    "Y = np.array(Y)\n",
    "\n",
    "X_train, X_test, Y_train, Y_test = train_test_split(X, Y, test_size=0.2, random_state=40, shuffle=True)\n",
    "X_val, X_test, Y_val, Y_test = train_test_split(X_test, Y_test, test_size=0.5, random_state=40, shuffle=True)"
   ]
  },
  {
   "cell_type": "code",
   "execution_count": 22,
   "metadata": {},
   "outputs": [],
   "source": [
    "from keras.models import Model\n",
    "from keras.layers import Dense, Input, Flatten\n",
    "import tensorflow as tf\n",
    "\n",
    "\n",
    "input_data = Input(shape=(X_train.shape[1], X_train.shape[2]))\n",
    "\n",
    "x = Dense(100, activation='relu')(input_data)\n",
    "x = Dense(100, activation='relu')(x)\n",
    "x = Flatten()(x)\n",
    "x = Dense(1, activation='sigmoid')(x)\n",
    "\n",
    "result = Model(inputs=input_data, outputs=x)\n",
    "result.compile(loss='binary_crossentropy', optimizer='adam', metrics=['accuracy', tf.keras.metrics.AUC(), tf.keras.metrics.Precision(), tf.keras.metrics.Recall(), tf.keras.metrics.BinaryAccuracy(threshold=0.5)])"
   ]
  },
  {
   "cell_type": "code",
   "execution_count": 23,
   "metadata": {},
   "outputs": [
    {
     "name": "stdout",
     "output_type": "stream",
     "text": [
      "Epoch 1/30\n",
      "1257/1257 [==============================] - 1s 931us/step - loss: 0.5644 - accuracy: 0.6924 - auc_2: 0.7705 - precision_2: 0.7061 - recall_2: 0.6608 - binary_accuracy: 0.6924 - val_loss: 0.5396 - val_accuracy: 0.7161 - val_auc_2: 0.7967 - val_precision_2: 0.7538 - val_recall_2: 0.6447 - val_binary_accuracy: 0.7161\n",
      "Epoch 2/30\n",
      "1257/1257 [==============================] - 1s 982us/step - loss: 0.5374 - accuracy: 0.7185 - auc_2: 0.7983 - precision_2: 0.7439 - recall_2: 0.6677 - binary_accuracy: 0.7185 - val_loss: 0.5463 - val_accuracy: 0.7082 - val_auc_2: 0.8004 - val_precision_2: 0.6792 - val_recall_2: 0.7926 - val_binary_accuracy: 0.7082\n",
      "Epoch 3/30\n",
      "1257/1257 [==============================] - 1s 832us/step - loss: 0.5321 - accuracy: 0.7237 - auc_2: 0.8039 - precision_2: 0.7462 - recall_2: 0.6793 - binary_accuracy: 0.7237 - val_loss: 0.5369 - val_accuracy: 0.7193 - val_auc_2: 0.8064 - val_precision_2: 0.7916 - val_recall_2: 0.5979 - val_binary_accuracy: 0.7193\n",
      "Epoch 4/30\n",
      "1257/1257 [==============================] - 1s 832us/step - loss: 0.5303 - accuracy: 0.7243 - auc_2: 0.8053 - precision_2: 0.7450 - recall_2: 0.6831 - binary_accuracy: 0.7243 - val_loss: 0.5281 - val_accuracy: 0.7245 - val_auc_2: 0.8066 - val_precision_2: 0.7462 - val_recall_2: 0.6832 - val_binary_accuracy: 0.7245\n",
      "Epoch 5/30\n",
      "1257/1257 [==============================] - 1s 852us/step - loss: 0.5278 - accuracy: 0.7261 - auc_2: 0.8072 - precision_2: 0.7445 - recall_2: 0.6897 - binary_accuracy: 0.7261 - val_loss: 0.5332 - val_accuracy: 0.7293 - val_auc_2: 0.8061 - val_precision_2: 0.7234 - val_recall_2: 0.7454 - val_binary_accuracy: 0.7293\n",
      "Epoch 6/30\n",
      "1257/1257 [==============================] - 1s 796us/step - loss: 0.5272 - accuracy: 0.7256 - auc_2: 0.8079 - precision_2: 0.7460 - recall_2: 0.6854 - binary_accuracy: 0.7256 - val_loss: 0.5271 - val_accuracy: 0.7267 - val_auc_2: 0.8080 - val_precision_2: 0.7434 - val_recall_2: 0.6951 - val_binary_accuracy: 0.7267\n",
      "Epoch 7/30\n",
      "1257/1257 [==============================] - 1s 810us/step - loss: 0.5250 - accuracy: 0.7289 - auc_2: 0.8097 - precision_2: 0.7485 - recall_2: 0.6905 - binary_accuracy: 0.7289 - val_loss: 0.5300 - val_accuracy: 0.7249 - val_auc_2: 0.8072 - val_precision_2: 0.7486 - val_recall_2: 0.6800 - val_binary_accuracy: 0.7249\n",
      "Epoch 8/30\n",
      "1257/1257 [==============================] - 1s 767us/step - loss: 0.5253 - accuracy: 0.7287 - auc_2: 0.8097 - precision_2: 0.7469 - recall_2: 0.6931 - binary_accuracy: 0.7287 - val_loss: 0.5259 - val_accuracy: 0.7315 - val_auc_2: 0.8090 - val_precision_2: 0.7481 - val_recall_2: 0.7006 - val_binary_accuracy: 0.7315\n",
      "Epoch 9/30\n",
      "1257/1257 [==============================] - 1s 800us/step - loss: 0.5229 - accuracy: 0.7285 - auc_2: 0.8114 - precision_2: 0.7476 - recall_2: 0.6912 - binary_accuracy: 0.7285 - val_loss: 0.5266 - val_accuracy: 0.7269 - val_auc_2: 0.8094 - val_precision_2: 0.7693 - val_recall_2: 0.6507 - val_binary_accuracy: 0.7269\n",
      "Epoch 10/30\n",
      "1257/1257 [==============================] - 1s 760us/step - loss: 0.5225 - accuracy: 0.7306 - auc_2: 0.8115 - precision_2: 0.7497 - recall_2: 0.6933 - binary_accuracy: 0.7306 - val_loss: 0.5236 - val_accuracy: 0.7328 - val_auc_2: 0.8111 - val_precision_2: 0.7474 - val_recall_2: 0.7062 - val_binary_accuracy: 0.7328\n",
      "Epoch 11/30\n",
      "1257/1257 [==============================] - 1s 772us/step - loss: 0.5212 - accuracy: 0.7311 - auc_2: 0.8130 - precision_2: 0.7525 - recall_2: 0.6900 - binary_accuracy: 0.7311 - val_loss: 0.5252 - val_accuracy: 0.7320 - val_auc_2: 0.8111 - val_precision_2: 0.7391 - val_recall_2: 0.7201 - val_binary_accuracy: 0.7320\n",
      "Epoch 12/30\n",
      "1257/1257 [==============================] - 1s 796us/step - loss: 0.5202 - accuracy: 0.7314 - auc_2: 0.8138 - precision_2: 0.7509 - recall_2: 0.6936 - binary_accuracy: 0.7314 - val_loss: 0.5272 - val_accuracy: 0.7336 - val_auc_2: 0.8101 - val_precision_2: 0.7264 - val_recall_2: 0.7526 - val_binary_accuracy: 0.7336\n",
      "Epoch 13/30\n",
      "1257/1257 [==============================] - 1s 761us/step - loss: 0.5200 - accuracy: 0.7317 - auc_2: 0.8141 - precision_2: 0.7511 - recall_2: 0.6943 - binary_accuracy: 0.7317 - val_loss: 0.5272 - val_accuracy: 0.7263 - val_auc_2: 0.8110 - val_precision_2: 0.7760 - val_recall_2: 0.6388 - val_binary_accuracy: 0.7263\n",
      "Epoch 14/30\n",
      "1257/1257 [==============================] - 1s 785us/step - loss: 0.5188 - accuracy: 0.7336 - auc_2: 0.8149 - precision_2: 0.7551 - recall_2: 0.6925 - binary_accuracy: 0.7336 - val_loss: 0.5281 - val_accuracy: 0.7289 - val_auc_2: 0.8106 - val_precision_2: 0.7756 - val_recall_2: 0.6467 - val_binary_accuracy: 0.7289\n",
      "Epoch 15/30\n",
      "1257/1257 [==============================] - 1s 761us/step - loss: 0.5184 - accuracy: 0.7317 - auc_2: 0.8149 - precision_2: 0.7531 - recall_2: 0.6906 - binary_accuracy: 0.7317 - val_loss: 0.5241 - val_accuracy: 0.7303 - val_auc_2: 0.8105 - val_precision_2: 0.7593 - val_recall_2: 0.6768 - val_binary_accuracy: 0.7303\n",
      "Epoch 16/30\n",
      "1257/1257 [==============================] - 1s 822us/step - loss: 0.5185 - accuracy: 0.7312 - auc_2: 0.8152 - precision_2: 0.7520 - recall_2: 0.6910 - binary_accuracy: 0.7312 - val_loss: 0.5265 - val_accuracy: 0.7322 - val_auc_2: 0.8095 - val_precision_2: 0.7498 - val_recall_2: 0.6998 - val_binary_accuracy: 0.7322\n",
      "Epoch 17/30\n",
      "1257/1257 [==============================] - 1s 796us/step - loss: 0.5169 - accuracy: 0.7346 - auc_2: 0.8164 - precision_2: 0.7553 - recall_2: 0.6951 - binary_accuracy: 0.7346 - val_loss: 0.5352 - val_accuracy: 0.7227 - val_auc_2: 0.8097 - val_precision_2: 0.8092 - val_recall_2: 0.5852 - val_binary_accuracy: 0.7227\n",
      "Epoch 18/30\n",
      "1257/1257 [==============================] - 1s 766us/step - loss: 0.5163 - accuracy: 0.7340 - auc_2: 0.8169 - precision_2: 0.7558 - recall_2: 0.6924 - binary_accuracy: 0.7340 - val_loss: 0.5231 - val_accuracy: 0.7291 - val_auc_2: 0.8122 - val_precision_2: 0.7346 - val_recall_2: 0.7201 - val_binary_accuracy: 0.7291\n",
      "Epoch 19/30\n",
      "1257/1257 [==============================] - 1s 764us/step - loss: 0.5161 - accuracy: 0.7338 - auc_2: 0.8170 - precision_2: 0.7548 - recall_2: 0.6939 - binary_accuracy: 0.7338 - val_loss: 0.5307 - val_accuracy: 0.7301 - val_auc_2: 0.8077 - val_precision_2: 0.7252 - val_recall_2: 0.7439 - val_binary_accuracy: 0.7301\n",
      "Epoch 20/30\n",
      "1257/1257 [==============================] - 1s 800us/step - loss: 0.5148 - accuracy: 0.7353 - auc_2: 0.8182 - precision_2: 0.7555 - recall_2: 0.6970 - binary_accuracy: 0.7353 - val_loss: 0.5259 - val_accuracy: 0.7305 - val_auc_2: 0.8094 - val_precision_2: 0.7637 - val_recall_2: 0.6701 - val_binary_accuracy: 0.7305\n",
      "Epoch 21/30\n",
      "1257/1257 [==============================] - 1s 763us/step - loss: 0.5142 - accuracy: 0.7358 - auc_2: 0.8187 - precision_2: 0.7581 - recall_2: 0.6936 - binary_accuracy: 0.7358 - val_loss: 0.5254 - val_accuracy: 0.7275 - val_auc_2: 0.8118 - val_precision_2: 0.7738 - val_recall_2: 0.6455 - val_binary_accuracy: 0.7275\n",
      "Epoch 22/30\n",
      "1257/1257 [==============================] - 1s 758us/step - loss: 0.5140 - accuracy: 0.7348 - auc_2: 0.8185 - precision_2: 0.7579 - recall_2: 0.6912 - binary_accuracy: 0.7348 - val_loss: 0.5241 - val_accuracy: 0.7344 - val_auc_2: 0.8114 - val_precision_2: 0.7724 - val_recall_2: 0.6673 - val_binary_accuracy: 0.7344\n",
      "Epoch 23/30\n",
      "1257/1257 [==============================] - 1s 775us/step - loss: 0.5130 - accuracy: 0.7350 - auc_2: 0.8195 - precision_2: 0.7562 - recall_2: 0.6948 - binary_accuracy: 0.7350 - val_loss: 0.5265 - val_accuracy: 0.7318 - val_auc_2: 0.8094 - val_precision_2: 0.7621 - val_recall_2: 0.6768 - val_binary_accuracy: 0.7318\n",
      "Epoch 24/30\n",
      "1257/1257 [==============================] - 1s 796us/step - loss: 0.5123 - accuracy: 0.7370 - auc_2: 0.8201 - precision_2: 0.7583 - recall_2: 0.6969 - binary_accuracy: 0.7370 - val_loss: 0.5283 - val_accuracy: 0.7257 - val_auc_2: 0.8084 - val_precision_2: 0.7669 - val_recall_2: 0.6511 - val_binary_accuracy: 0.7257\n",
      "Epoch 25/30\n",
      "1257/1257 [==============================] - 1s 762us/step - loss: 0.5118 - accuracy: 0.7375 - auc_2: 0.8204 - precision_2: 0.7596 - recall_2: 0.6960 - binary_accuracy: 0.7375 - val_loss: 0.5253 - val_accuracy: 0.7303 - val_auc_2: 0.8112 - val_precision_2: 0.7697 - val_recall_2: 0.6598 - val_binary_accuracy: 0.7303\n",
      "Epoch 26/30\n",
      "1257/1257 [==============================] - 1s 761us/step - loss: 0.5115 - accuracy: 0.7362 - auc_2: 0.8208 - precision_2: 0.7577 - recall_2: 0.6957 - binary_accuracy: 0.7362 - val_loss: 0.5253 - val_accuracy: 0.7311 - val_auc_2: 0.8112 - val_precision_2: 0.7464 - val_recall_2: 0.7026 - val_binary_accuracy: 0.7311\n",
      "Epoch 27/30\n",
      "1257/1257 [==============================] - 1s 797us/step - loss: 0.5103 - accuracy: 0.7389 - auc_2: 0.8216 - precision_2: 0.7601 - recall_2: 0.6994 - binary_accuracy: 0.7389 - val_loss: 0.5268 - val_accuracy: 0.7293 - val_auc_2: 0.8092 - val_precision_2: 0.7514 - val_recall_2: 0.6879 - val_binary_accuracy: 0.7293\n",
      "Epoch 28/30\n",
      "1257/1257 [==============================] - 1s 758us/step - loss: 0.5099 - accuracy: 0.7387 - auc_2: 0.8219 - precision_2: 0.7608 - recall_2: 0.6975 - binary_accuracy: 0.7387 - val_loss: 0.5256 - val_accuracy: 0.7307 - val_auc_2: 0.8119 - val_precision_2: 0.7303 - val_recall_2: 0.7343 - val_binary_accuracy: 0.7307\n",
      "Epoch 29/30\n",
      "1257/1257 [==============================] - 1s 775us/step - loss: 0.5091 - accuracy: 0.7398 - auc_2: 0.8226 - precision_2: 0.7608 - recall_2: 0.7005 - binary_accuracy: 0.7398 - val_loss: 0.5286 - val_accuracy: 0.7277 - val_auc_2: 0.8107 - val_precision_2: 0.7267 - val_recall_2: 0.7328 - val_binary_accuracy: 0.7277\n",
      "Epoch 30/30\n",
      "1257/1257 [==============================] - 1s 792us/step - loss: 0.5086 - accuracy: 0.7379 - auc_2: 0.8228 - precision_2: 0.7582 - recall_2: 0.6998 - binary_accuracy: 0.7379 - val_loss: 0.5240 - val_accuracy: 0.7269 - val_auc_2: 0.8123 - val_precision_2: 0.7342 - val_recall_2: 0.7141 - val_binary_accuracy: 0.7269\n",
      "m parameter 12101\n",
      "loss :  0.5251428484916687\n",
      "acc :  0.7328957915306091\n",
      "auc :  0.8139587044715881\n",
      "precision :  0.7321867346763611\n",
      "recall :  0.7218409180641174\n",
      "binary_accuracy :  0.7328957915306091\n",
      "f1_score :  0.7269770196694958\n"
     ]
    }
   ],
   "source": [
    "hist = result.fit(X_train, Y_train, epochs=30, batch_size=32, validation_data=(X_val, Y_val))\n",
    "\n",
    "loss, acc, auc, precision, recall, binary_accuracy = result.evaluate(X_test, Y_test, verbose=0)\n",
    "print(\"m parameter\", result.count_params())\n",
    "print('loss : ', loss)\n",
    "print('acc : ', acc)\n",
    "print('auc : ', auc)\n",
    "print('precision : ', precision)\n",
    "print('recall : ', recall)\n",
    "print('binary_accuracy : ', binary_accuracy)\n",
    "#print f1-score with calculate recall precision\n",
    "\n",
    "f1_score = (2 * precision * recall) / (precision + recall)\n",
    "print('f1_score : ', f1_score)"
   ]
  }
 ],
 "metadata": {
  "kernelspec": {
   "display_name": "myenv2",
   "language": "python",
   "name": "python3"
  },
  "language_info": {
   "codemirror_mode": {
    "name": "ipython",
    "version": 3
   },
   "file_extension": ".py",
   "mimetype": "text/x-python",
   "name": "python",
   "nbconvert_exporter": "python",
   "pygments_lexer": "ipython3",
   "version": "3.10.8"
  },
  "orig_nbformat": 4
 },
 "nbformat": 4,
 "nbformat_minor": 2
}
