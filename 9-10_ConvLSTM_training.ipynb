{
 "cells": [
  {
   "cell_type": "code",
   "execution_count": 1,
   "metadata": {},
   "outputs": [],
   "source": [
    "import pandas as pd\n",
    "import numpy as np\n",
    "\n",
    "accident_5 = pd.read_csv(\"accident_5_min_before.csv\", encoding=\"cp949\", index_col=0)\n",
    "accident_10 = pd.read_csv(\"accident_10_min_before.csv\", encoding=\"cp949\", index_col=0)\n",
    "accident_15 = pd.read_csv(\"accident_15_min_before.csv\", encoding=\"cp949\", index_col=0)\n",
    "accident_20 = pd.read_csv(\"accident_20_min_before.csv\", encoding=\"cp949\", index_col=0)\n",
    "\n",
    "non_accident_5 = pd.read_csv(\"non_accident_5_min_before.csv\", encoding=\"cp949\", index_col=0)\n",
    "non_accident_10 = pd.read_csv(\"non_accident_10_min_before.csv\", encoding=\"cp949\", index_col=0)\n",
    "non_accident_15 = pd.read_csv(\"non_accident_15_min_before.csv\", encoding=\"cp949\", index_col=0)\n",
    "non_accident_20 = pd.read_csv(\"non_accident_20_min_before.csv\", encoding=\"cp949\", index_col=0)"
   ]
  },
  {
   "cell_type": "code",
   "execution_count": 2,
   "metadata": {},
   "outputs": [],
   "source": [
    "dynamic_5 = accident_5[[\"rain\", \"temp\", \"humid\", \"visibility\", \"dew_point\", \"cloud\", \"vaper_press\", \"ground_temp\", \"sun_diff_angle\", \"sun_elevation\", \"speed\", \"lanes\", \"speed_limit\", \"length\", \"bump\", \"camera\"]]\n",
    "dynamic_10 = accident_10[[\"rain\", \"temp\", \"humid\", \"visibility\", \"dew_point\", \"cloud\", \"vaper_press\", \"ground_temp\", \"sun_diff_angle\", \"sun_elevation\", \"speed\", \"lanes\", \"speed_limit\", \"length\", \"bump\", \"camera\"]]\n",
    "dynamic_15 = accident_15[[\"rain\", \"temp\", \"humid\", \"visibility\", \"dew_point\", \"cloud\", \"vaper_press\", \"ground_temp\", \"sun_diff_angle\", \"sun_elevation\", \"speed\", \"lanes\", \"speed_limit\", \"length\", \"bump\", \"camera\"]]\n",
    "dynamic_20 = accident_20[[\"rain\", \"temp\", \"humid\", \"visibility\", \"dew_point\", \"cloud\", \"vaper_press\", \"ground_temp\", \"sun_diff_angle\", \"sun_elevation\", \"speed\", \"lanes\", \"speed_limit\", \"length\", \"bump\", \"camera\"]]\n",
    "\n",
    "non_dynamic_5 = non_accident_5[[\"rain\", \"temp\", \"humid\", \"visibility\", \"dew_point\", \"cloud\", \"vaper_press\", \"ground_temp\", \"sun_diff_angle\", \"sun_elevation\", \"speed\", \"lanes\", \"speed_limit\", \"length\", \"bump\", \"camera\"]]\n",
    "non_dynamic_10 = non_accident_10[[\"rain\", \"temp\", \"humid\", \"visibility\", \"dew_point\", \"cloud\", \"vaper_press\", \"ground_temp\", \"sun_diff_angle\", \"sun_elevation\", \"speed\", \"lanes\", \"speed_limit\", \"length\", \"bump\", \"camera\"]]\n",
    "non_dynamic_15 = non_accident_15[[\"rain\", \"temp\", \"humid\", \"visibility\", \"dew_point\", \"cloud\", \"vaper_press\", \"ground_temp\", \"sun_diff_angle\", \"sun_elevation\", \"speed\", \"lanes\", \"speed_limit\", \"length\", \"bump\", \"camera\"]]\n",
    "non_dynamic_20 = non_accident_20[[\"rain\", \"temp\", \"humid\", \"visibility\", \"dew_point\", \"cloud\", \"vaper_press\", \"ground_temp\", \"sun_diff_angle\", \"sun_elevation\", \"speed\", \"lanes\", \"speed_limit\", \"length\", \"bump\", \"camera\"]]"
   ]
  },
  {
   "cell_type": "code",
   "execution_count": 3,
   "metadata": {},
   "outputs": [],
   "source": [
    "def data_to_image(data):\n",
    "    data_matrix = np.array(data).reshape(4, 4)\n",
    "    return data_matrix"
   ]
  },
  {
   "cell_type": "code",
   "execution_count": 4,
   "metadata": {},
   "outputs": [],
   "source": [
    "pos_data = []\n",
    "for i in range(len(dynamic_5)):\n",
    "    pos_5 = data_to_image(dynamic_5.iloc[i])\n",
    "    pos_10 = data_to_image(dynamic_10.iloc[i])\n",
    "    pos_15 = data_to_image(dynamic_15.iloc[i])\n",
    "    pos_20 = data_to_image(dynamic_20.iloc[i])\n",
    "    pos_data.append(np.concatenate((pos_20, pos_15, pos_10, pos_5), axis=1))\n",
    "\n",
    "neg_data = []\n",
    "for i in range(len(non_dynamic_5)):\n",
    "    neg_5 = data_to_image(non_dynamic_5.iloc[i])\n",
    "    neg_10 = data_to_image(non_dynamic_10.iloc[i])\n",
    "    neg_15 = data_to_image(non_dynamic_15.iloc[i])\n",
    "    neg_20 = data_to_image(non_dynamic_20.iloc[i])\n",
    "    neg_data.append(np.concatenate((neg_20, neg_15, neg_10, neg_5), axis=1))"
   ]
  },
  {
   "cell_type": "code",
   "execution_count": 5,
   "metadata": {},
   "outputs": [],
   "source": [
    "pos_data = np.array(pos_data)\n",
    "pos_data = pos_data.reshape(-1, 4, 4, 4, 1)"
   ]
  },
  {
   "cell_type": "code",
   "execution_count": 6,
   "metadata": {},
   "outputs": [
    {
     "name": "stdout",
     "output_type": "stream",
     "text": [
      "(25062, 4, 4, 4, 1)\n"
     ]
    }
   ],
   "source": [
    "neg_data = np.array(neg_data)\n",
    "neg_data = neg_data.reshape(-1, 4, 4, 4, 1)\n",
    "print(neg_data.shape)"
   ]
  },
  {
   "cell_type": "code",
   "execution_count": 7,
   "metadata": {},
   "outputs": [],
   "source": [
    "dataset = np.concatenate((pos_data, neg_data), axis=0)\n",
    "label = np.concatenate((np.ones(len(pos_data)), np.zeros(len(neg_data))), axis=0)"
   ]
  },
  {
   "cell_type": "code",
   "execution_count": 8,
   "metadata": {},
   "outputs": [],
   "source": [
    "from sklearn.model_selection import train_test_split\n",
    "\n",
    "X_train, X_test, y_train, y_test = train_test_split(dataset, label, test_size=0.2, random_state=1234, shuffle=True)\n",
    "X_val, X_test, y_val, y_test = train_test_split(X_test, y_test, test_size=0.5, random_state=1234, shuffle=True)"
   ]
  },
  {
   "cell_type": "code",
   "execution_count": 9,
   "metadata": {},
   "outputs": [],
   "source": [
    "import tensorflow as tf\n",
    "from tensorflow.keras.layers import Input, BatchNormalization, ConvLSTM2D, Dense, Flatten\n",
    "from tensorflow.keras.models import Model\n"
   ]
  },
  {
   "cell_type": "code",
   "execution_count": 10,
   "metadata": {},
   "outputs": [],
   "source": [
    "input = Input(shape=(4, 4, 4, 1))\n",
    "\n",
    "convlstm1 = ConvLSTM2D(filters=20, kernel_size=(3, 3), padding=\"same\", return_sequences=True)(input)\n",
    "bn1 = BatchNormalization()(convlstm1)\n",
    "\n",
    "convlstm2 = ConvLSTM2D(filters=20, kernel_size=(3, 3), padding=\"same\", return_sequences=False)(bn1)\n",
    "bn2 = BatchNormalization()(convlstm2)\n",
    "\n",
    "flatten = Flatten()(bn2)\n",
    "\n",
    "dense1 = Dense(20, activation=\"relu\")(flatten)\n",
    "dense2 = Dense(1, activation=\"sigmoid\")(dense1)\n",
    "\n",
    "m = Model(inputs=input, outputs=dense2)\n",
    "\n",
    "m.compile(loss='binary_crossentropy', optimizer='adam', metrics=['accuracy', tf.keras.metrics.AUC(name='auc'), tf.keras.metrics.Precision(), tf.keras.metrics.Recall(), tf.keras.metrics.BinaryAccuracy(threshold=0.5)])"
   ]
  },
  {
   "cell_type": "code",
   "execution_count": 11,
   "metadata": {},
   "outputs": [
    {
     "name": "stdout",
     "output_type": "stream",
     "text": [
      "Model: \"model\"\n",
      "_________________________________________________________________\n",
      " Layer (type)                Output Shape              Param #   \n",
      "=================================================================\n",
      " input_1 (InputLayer)        [(None, 4, 4, 4, 1)]      0         \n",
      "                                                                 \n",
      " conv_lstm2d (ConvLSTM2D)    (None, 4, 4, 4, 20)       15200     \n",
      "                                                                 \n",
      " batch_normalization (BatchN  (None, 4, 4, 4, 20)      80        \n",
      " ormalization)                                                   \n",
      "                                                                 \n",
      " conv_lstm2d_1 (ConvLSTM2D)  (None, 4, 4, 20)          28880     \n",
      "                                                                 \n",
      " batch_normalization_1 (Batc  (None, 4, 4, 20)         80        \n",
      " hNormalization)                                                 \n",
      "                                                                 \n",
      " flatten (Flatten)           (None, 320)               0         \n",
      "                                                                 \n",
      " dense (Dense)               (None, 20)                6420      \n",
      "                                                                 \n",
      " dense_1 (Dense)             (None, 1)                 21        \n",
      "                                                                 \n",
      "=================================================================\n",
      "Total params: 50,681\n",
      "Trainable params: 50,601\n",
      "Non-trainable params: 80\n",
      "_________________________________________________________________\n"
     ]
    }
   ],
   "source": [
    "m.summary()"
   ]
  },
  {
   "cell_type": "code",
   "execution_count": 12,
   "metadata": {},
   "outputs": [
    {
     "name": "stdout",
     "output_type": "stream",
     "text": [
      "Epoch 1/50\n"
     ]
    },
    {
     "name": "stderr",
     "output_type": "stream",
     "text": [
      "2023-09-10 17:12:06.670027: W tensorflow/core/platform/profile_utils/cpu_utils.cc:128] Failed to get CPU frequency: 0 Hz\n"
     ]
    },
    {
     "name": "stdout",
     "output_type": "stream",
     "text": [
      "627/627 [==============================] - 23s 34ms/step - loss: 0.6825 - accuracy: 0.5600 - auc: 0.5855 - precision: 0.5606 - recall: 0.5557 - binary_accuracy: 0.5600 - val_loss: 0.6820 - val_accuracy: 0.5656 - val_auc: 0.5929 - val_precision: 0.5613 - val_recall: 0.6230 - val_binary_accuracy: 0.5656\n",
      "Epoch 2/50\n",
      "627/627 [==============================] - 21s 34ms/step - loss: 0.6740 - accuracy: 0.5768 - auc: 0.6072 - precision: 0.5651 - recall: 0.6681 - binary_accuracy: 0.5768 - val_loss: 0.6740 - val_accuracy: 0.5842 - val_auc: 0.6166 - val_precision: 0.5731 - val_recall: 0.6782 - val_binary_accuracy: 0.5842\n",
      "Epoch 3/50\n",
      "627/627 [==============================] - 21s 34ms/step - loss: 0.6684 - accuracy: 0.5859 - auc: 0.6223 - precision: 0.5706 - recall: 0.6951 - binary_accuracy: 0.5859 - val_loss: 0.6700 - val_accuracy: 0.5900 - val_auc: 0.6269 - val_precision: 0.5759 - val_recall: 0.7004 - val_binary_accuracy: 0.5900\n",
      "Epoch 4/50\n",
      "627/627 [==============================] - 22s 35ms/step - loss: 0.6656 - accuracy: 0.5914 - auc: 0.6278 - precision: 0.5763 - recall: 0.6909 - binary_accuracy: 0.5914 - val_loss: 0.6709 - val_accuracy: 0.5916 - val_auc: 0.6273 - val_precision: 0.6004 - val_recall: 0.5611 - val_binary_accuracy: 0.5916\n",
      "Epoch 5/50\n",
      "627/627 [==============================] - 22s 34ms/step - loss: 0.6637 - accuracy: 0.5950 - auc: 0.6322 - precision: 0.5811 - recall: 0.6816 - binary_accuracy: 0.5950 - val_loss: 0.6679 - val_accuracy: 0.5956 - val_auc: 0.6255 - val_precision: 0.5822 - val_recall: 0.6925 - val_binary_accuracy: 0.5956\n",
      "Epoch 6/50\n",
      "627/627 [==============================] - 22s 34ms/step - loss: 0.6611 - accuracy: 0.6012 - auc: 0.6396 - precision: 0.5883 - recall: 0.6751 - binary_accuracy: 0.6012 - val_loss: 0.6656 - val_accuracy: 0.5950 - val_auc: 0.6281 - val_precision: 0.5848 - val_recall: 0.6706 - val_binary_accuracy: 0.5950\n",
      "Epoch 7/50\n",
      "627/627 [==============================] - 22s 34ms/step - loss: 0.6596 - accuracy: 0.6031 - auc: 0.6432 - precision: 0.5909 - recall: 0.6708 - binary_accuracy: 0.6031 - val_loss: 0.6616 - val_accuracy: 0.5974 - val_auc: 0.6429 - val_precision: 0.5769 - val_recall: 0.7472 - val_binary_accuracy: 0.5974\n",
      "Epoch 8/50\n",
      "627/627 [==============================] - 21s 34ms/step - loss: 0.6572 - accuracy: 0.6094 - auc: 0.6488 - precision: 0.5979 - recall: 0.6691 - binary_accuracy: 0.6094 - val_loss: 0.6641 - val_accuracy: 0.5922 - val_auc: 0.6374 - val_precision: 0.5927 - val_recall: 0.6040 - val_binary_accuracy: 0.5922\n",
      "Epoch 9/50\n",
      "627/627 [==============================] - 21s 33ms/step - loss: 0.6553 - accuracy: 0.6108 - auc: 0.6524 - precision: 0.5996 - recall: 0.6676 - binary_accuracy: 0.6108 - val_loss: 0.6604 - val_accuracy: 0.5994 - val_auc: 0.6398 - val_precision: 0.5953 - val_recall: 0.6345 - val_binary_accuracy: 0.5994\n",
      "Epoch 10/50\n",
      "627/627 [==============================] - 21s 33ms/step - loss: 0.6548 - accuracy: 0.6117 - auc: 0.6535 - precision: 0.6014 - recall: 0.6627 - binary_accuracy: 0.6117 - val_loss: 0.6620 - val_accuracy: 0.6018 - val_auc: 0.6399 - val_precision: 0.6037 - val_recall: 0.6052 - val_binary_accuracy: 0.6018\n",
      "Epoch 11/50\n",
      "627/627 [==============================] - 21s 33ms/step - loss: 0.6530 - accuracy: 0.6144 - auc: 0.6570 - precision: 0.6033 - recall: 0.6687 - binary_accuracy: 0.6144 - val_loss: 0.6609 - val_accuracy: 0.5966 - val_auc: 0.6434 - val_precision: 0.5857 - val_recall: 0.6750 - val_binary_accuracy: 0.5966\n",
      "Epoch 12/50\n",
      "627/627 [==============================] - 21s 34ms/step - loss: 0.6516 - accuracy: 0.6193 - auc: 0.6594 - precision: 0.6082 - recall: 0.6712 - binary_accuracy: 0.6193 - val_loss: 0.6585 - val_accuracy: 0.6073 - val_auc: 0.6455 - val_precision: 0.5948 - val_recall: 0.6873 - val_binary_accuracy: 0.6073\n",
      "Epoch 13/50\n",
      "627/627 [==============================] - 21s 33ms/step - loss: 0.6503 - accuracy: 0.6182 - auc: 0.6615 - precision: 0.6066 - recall: 0.6736 - binary_accuracy: 0.6182 - val_loss: 0.6593 - val_accuracy: 0.6087 - val_auc: 0.6461 - val_precision: 0.5984 - val_recall: 0.6746 - val_binary_accuracy: 0.6087\n",
      "Epoch 14/50\n",
      "627/627 [==============================] - 21s 33ms/step - loss: 0.6485 - accuracy: 0.6212 - auc: 0.6651 - precision: 0.6108 - recall: 0.6690 - binary_accuracy: 0.6212 - val_loss: 0.6602 - val_accuracy: 0.5980 - val_auc: 0.6444 - val_precision: 0.5927 - val_recall: 0.6409 - val_binary_accuracy: 0.5980\n",
      "Epoch 15/50\n",
      "627/627 [==============================] - 21s 33ms/step - loss: 0.6474 - accuracy: 0.6205 - auc: 0.6675 - precision: 0.6113 - recall: 0.6624 - binary_accuracy: 0.6205 - val_loss: 0.6606 - val_accuracy: 0.6026 - val_auc: 0.6431 - val_precision: 0.5950 - val_recall: 0.6563 - val_binary_accuracy: 0.6026\n",
      "Epoch 16/50\n",
      "627/627 [==============================] - 21s 33ms/step - loss: 0.6461 - accuracy: 0.6258 - auc: 0.6695 - precision: 0.6141 - recall: 0.6778 - binary_accuracy: 0.6258 - val_loss: 0.6569 - val_accuracy: 0.6079 - val_auc: 0.6489 - val_precision: 0.5999 - val_recall: 0.6611 - val_binary_accuracy: 0.6079\n",
      "Epoch 17/50\n",
      "627/627 [==============================] - 21s 34ms/step - loss: 0.6441 - accuracy: 0.6251 - auc: 0.6720 - precision: 0.6135 - recall: 0.6772 - binary_accuracy: 0.6251 - val_loss: 0.6581 - val_accuracy: 0.6018 - val_auc: 0.6477 - val_precision: 0.5960 - val_recall: 0.6456 - val_binary_accuracy: 0.6018\n",
      "Epoch 18/50\n",
      "627/627 [==============================] - 21s 34ms/step - loss: 0.6422 - accuracy: 0.6293 - auc: 0.6755 - precision: 0.6181 - recall: 0.6771 - binary_accuracy: 0.6293 - val_loss: 0.6602 - val_accuracy: 0.6055 - val_auc: 0.6450 - val_precision: 0.5985 - val_recall: 0.6548 - val_binary_accuracy: 0.6055\n",
      "Epoch 19/50\n",
      "627/627 [==============================] - 21s 34ms/step - loss: 0.6411 - accuracy: 0.6302 - auc: 0.6773 - precision: 0.6186 - recall: 0.6799 - binary_accuracy: 0.6302 - val_loss: 0.6615 - val_accuracy: 0.6034 - val_auc: 0.6431 - val_precision: 0.5902 - val_recall: 0.6909 - val_binary_accuracy: 0.6034\n",
      "Epoch 20/50\n",
      "627/627 [==============================] - 21s 34ms/step - loss: 0.6388 - accuracy: 0.6337 - auc: 0.6815 - precision: 0.6214 - recall: 0.6847 - binary_accuracy: 0.6337 - val_loss: 0.6623 - val_accuracy: 0.6049 - val_auc: 0.6423 - val_precision: 0.6018 - val_recall: 0.6333 - val_binary_accuracy: 0.6049\n",
      "Epoch 21/50\n",
      "627/627 [==============================] - 21s 34ms/step - loss: 0.6377 - accuracy: 0.6341 - auc: 0.6832 - precision: 0.6228 - recall: 0.6807 - binary_accuracy: 0.6341 - val_loss: 0.6634 - val_accuracy: 0.6079 - val_auc: 0.6486 - val_precision: 0.6121 - val_recall: 0.6012 - val_binary_accuracy: 0.6079\n",
      "Epoch 22/50\n",
      "627/627 [==============================] - 22s 34ms/step - loss: 0.6357 - accuracy: 0.6369 - auc: 0.6860 - precision: 0.6250 - recall: 0.6853 - binary_accuracy: 0.6369 - val_loss: 0.6661 - val_accuracy: 0.6024 - val_auc: 0.6424 - val_precision: 0.6047 - val_recall: 0.6040 - val_binary_accuracy: 0.6024\n",
      "Epoch 23/50\n",
      "627/627 [==============================] - 22s 34ms/step - loss: 0.6335 - accuracy: 0.6377 - auc: 0.6889 - precision: 0.6260 - recall: 0.6847 - binary_accuracy: 0.6377 - val_loss: 0.6617 - val_accuracy: 0.6038 - val_auc: 0.6454 - val_precision: 0.5970 - val_recall: 0.6520 - val_binary_accuracy: 0.6038\n",
      "Epoch 24/50\n",
      "627/627 [==============================] - 22s 35ms/step - loss: 0.6308 - accuracy: 0.6396 - auc: 0.6925 - precision: 0.6278 - recall: 0.6862 - binary_accuracy: 0.6396 - val_loss: 0.6687 - val_accuracy: 0.6051 - val_auc: 0.6381 - val_precision: 0.5955 - val_recall: 0.6690 - val_binary_accuracy: 0.6051\n",
      "Epoch 25/50\n",
      "627/627 [==============================] - 22s 35ms/step - loss: 0.6287 - accuracy: 0.6432 - auc: 0.6961 - precision: 0.6300 - recall: 0.6946 - binary_accuracy: 0.6432 - val_loss: 0.6663 - val_accuracy: 0.6034 - val_auc: 0.6416 - val_precision: 0.5917 - val_recall: 0.6813 - val_binary_accuracy: 0.6034\n",
      "Epoch 26/50\n",
      "627/627 [==============================] - 23s 36ms/step - loss: 0.6264 - accuracy: 0.6462 - auc: 0.6989 - precision: 0.6321 - recall: 0.7002 - binary_accuracy: 0.6462 - val_loss: 0.6665 - val_accuracy: 0.6079 - val_auc: 0.6439 - val_precision: 0.6009 - val_recall: 0.6560 - val_binary_accuracy: 0.6079\n",
      "Epoch 27/50\n",
      "627/627 [==============================] - 21s 34ms/step - loss: 0.6238 - accuracy: 0.6496 - auc: 0.7031 - precision: 0.6370 - recall: 0.6963 - binary_accuracy: 0.6496 - val_loss: 0.6705 - val_accuracy: 0.5998 - val_auc: 0.6365 - val_precision: 0.5960 - val_recall: 0.6329 - val_binary_accuracy: 0.5998\n",
      "Epoch 28/50\n",
      "627/627 [==============================] - 23s 37ms/step - loss: 0.6212 - accuracy: 0.6509 - auc: 0.7058 - precision: 0.6383 - recall: 0.6969 - binary_accuracy: 0.6509 - val_loss: 0.6685 - val_accuracy: 0.6042 - val_auc: 0.6346 - val_precision: 0.5999 - val_recall: 0.6385 - val_binary_accuracy: 0.6042\n",
      "Epoch 29/50\n",
      "627/627 [==============================] - 22s 34ms/step - loss: 0.6184 - accuracy: 0.6550 - auc: 0.7095 - precision: 0.6401 - recall: 0.7087 - binary_accuracy: 0.6550 - val_loss: 0.6751 - val_accuracy: 0.6006 - val_auc: 0.6331 - val_precision: 0.5934 - val_recall: 0.6532 - val_binary_accuracy: 0.6006\n",
      "Epoch 30/50\n",
      "627/627 [==============================] - 22s 35ms/step - loss: 0.6150 - accuracy: 0.6559 - auc: 0.7137 - precision: 0.6428 - recall: 0.7021 - binary_accuracy: 0.6559 - val_loss: 0.6807 - val_accuracy: 0.5968 - val_auc: 0.6270 - val_precision: 0.5915 - val_recall: 0.6401 - val_binary_accuracy: 0.5968\n",
      "Epoch 31/50\n",
      "627/627 [==============================] - 22s 35ms/step - loss: 0.6114 - accuracy: 0.6593 - auc: 0.7187 - precision: 0.6441 - recall: 0.7123 - binary_accuracy: 0.6593 - val_loss: 0.6809 - val_accuracy: 0.5944 - val_auc: 0.6315 - val_precision: 0.5946 - val_recall: 0.6075 - val_binary_accuracy: 0.5944\n",
      "Epoch 32/50\n",
      "627/627 [==============================] - 22s 35ms/step - loss: 0.6082 - accuracy: 0.6598 - auc: 0.7228 - precision: 0.6453 - recall: 0.7106 - binary_accuracy: 0.6598 - val_loss: 0.6846 - val_accuracy: 0.5978 - val_auc: 0.6352 - val_precision: 0.6034 - val_recall: 0.5837 - val_binary_accuracy: 0.5978\n",
      "Epoch 33/50\n",
      "627/627 [==============================] - 22s 35ms/step - loss: 0.6057 - accuracy: 0.6639 - auc: 0.7256 - precision: 0.6487 - recall: 0.7153 - binary_accuracy: 0.6639 - val_loss: 0.6757 - val_accuracy: 0.6043 - val_auc: 0.6317 - val_precision: 0.5957 - val_recall: 0.6631 - val_binary_accuracy: 0.6043\n",
      "Epoch 34/50\n",
      "627/627 [==============================] - 22s 35ms/step - loss: 0.6019 - accuracy: 0.6664 - auc: 0.7303 - precision: 0.6503 - recall: 0.7202 - binary_accuracy: 0.6664 - val_loss: 0.6847 - val_accuracy: 0.6016 - val_auc: 0.6309 - val_precision: 0.5942 - val_recall: 0.6544 - val_binary_accuracy: 0.6016\n",
      "Epoch 35/50\n",
      "627/627 [==============================] - 22s 35ms/step - loss: 0.5972 - accuracy: 0.6717 - auc: 0.7351 - precision: 0.6546 - recall: 0.7276 - binary_accuracy: 0.6717 - val_loss: 0.6984 - val_accuracy: 0.5978 - val_auc: 0.6308 - val_precision: 0.5933 - val_recall: 0.6361 - val_binary_accuracy: 0.5978\n",
      "Epoch 36/50\n",
      "627/627 [==============================] - 22s 35ms/step - loss: 0.5935 - accuracy: 0.6722 - auc: 0.7393 - precision: 0.6550 - recall: 0.7278 - binary_accuracy: 0.6722 - val_loss: 0.6980 - val_accuracy: 0.5894 - val_auc: 0.6251 - val_precision: 0.5819 - val_recall: 0.6512 - val_binary_accuracy: 0.5894\n",
      "Epoch 37/50\n",
      "627/627 [==============================] - 22s 35ms/step - loss: 0.5904 - accuracy: 0.6743 - auc: 0.7426 - precision: 0.6562 - recall: 0.7328 - binary_accuracy: 0.6743 - val_loss: 0.7067 - val_accuracy: 0.5930 - val_auc: 0.6237 - val_precision: 0.5995 - val_recall: 0.5738 - val_binary_accuracy: 0.5930\n",
      "Epoch 38/50\n",
      "627/627 [==============================] - 22s 34ms/step - loss: 0.5857 - accuracy: 0.6802 - auc: 0.7482 - precision: 0.6621 - recall: 0.7365 - binary_accuracy: 0.6802 - val_loss: 0.6995 - val_accuracy: 0.5920 - val_auc: 0.6249 - val_precision: 0.5915 - val_recall: 0.6095 - val_binary_accuracy: 0.5920\n",
      "Epoch 39/50\n",
      "627/627 [==============================] - 22s 35ms/step - loss: 0.5818 - accuracy: 0.6846 - auc: 0.7522 - precision: 0.6667 - recall: 0.7387 - binary_accuracy: 0.6846 - val_loss: 0.7107 - val_accuracy: 0.5936 - val_auc: 0.6233 - val_precision: 0.5890 - val_recall: 0.6345 - val_binary_accuracy: 0.5936\n",
      "Epoch 40/50\n",
      "627/627 [==============================] - 22s 35ms/step - loss: 0.5773 - accuracy: 0.6858 - auc: 0.7565 - precision: 0.6669 - recall: 0.7428 - binary_accuracy: 0.6858 - val_loss: 0.7134 - val_accuracy: 0.5934 - val_auc: 0.6210 - val_precision: 0.5905 - val_recall: 0.6242 - val_binary_accuracy: 0.5934\n",
      "Epoch 41/50\n",
      "627/627 [==============================] - 22s 35ms/step - loss: 0.5725 - accuracy: 0.6887 - auc: 0.7610 - precision: 0.6699 - recall: 0.7444 - binary_accuracy: 0.6887 - val_loss: 0.7246 - val_accuracy: 0.5880 - val_auc: 0.6154 - val_precision: 0.5745 - val_recall: 0.6964 - val_binary_accuracy: 0.5880\n",
      "Epoch 42/50\n",
      "627/627 [==============================] - 21s 34ms/step - loss: 0.5691 - accuracy: 0.6938 - auc: 0.7647 - precision: 0.6727 - recall: 0.7552 - binary_accuracy: 0.6938 - val_loss: 0.7290 - val_accuracy: 0.5818 - val_auc: 0.6184 - val_precision: 0.5775 - val_recall: 0.6266 - val_binary_accuracy: 0.5818\n",
      "Epoch 43/50\n",
      "627/627 [==============================] - 21s 34ms/step - loss: 0.5639 - accuracy: 0.6947 - auc: 0.7695 - precision: 0.6742 - recall: 0.7538 - binary_accuracy: 0.6947 - val_loss: 0.7331 - val_accuracy: 0.5922 - val_auc: 0.6150 - val_precision: 0.5836 - val_recall: 0.6595 - val_binary_accuracy: 0.5922\n",
      "Epoch 44/50\n",
      "627/627 [==============================] - 21s 34ms/step - loss: 0.5618 - accuracy: 0.6965 - auc: 0.7713 - precision: 0.6759 - recall: 0.7554 - binary_accuracy: 0.6965 - val_loss: 0.7377 - val_accuracy: 0.5916 - val_auc: 0.6180 - val_precision: 0.5844 - val_recall: 0.6500 - val_binary_accuracy: 0.5916\n",
      "Epoch 45/50\n",
      "627/627 [==============================] - 22s 35ms/step - loss: 0.5542 - accuracy: 0.7012 - auc: 0.7787 - precision: 0.6791 - recall: 0.7632 - binary_accuracy: 0.7012 - val_loss: 0.7367 - val_accuracy: 0.5852 - val_auc: 0.6181 - val_precision: 0.5786 - val_recall: 0.6440 - val_binary_accuracy: 0.5852\n",
      "Epoch 46/50\n",
      "627/627 [==============================] - 22s 35ms/step - loss: 0.5505 - accuracy: 0.7041 - auc: 0.7814 - precision: 0.6808 - recall: 0.7686 - binary_accuracy: 0.7041 - val_loss: 0.7563 - val_accuracy: 0.5890 - val_auc: 0.6133 - val_precision: 0.5786 - val_recall: 0.6722 - val_binary_accuracy: 0.5890\n",
      "Epoch 47/50\n",
      "627/627 [==============================] - 22s 35ms/step - loss: 0.5486 - accuracy: 0.7059 - auc: 0.7828 - precision: 0.6818 - recall: 0.7725 - binary_accuracy: 0.7059 - val_loss: 0.7513 - val_accuracy: 0.5828 - val_auc: 0.6084 - val_precision: 0.5761 - val_recall: 0.6440 - val_binary_accuracy: 0.5828\n",
      "Epoch 48/50\n",
      "627/627 [==============================] - 22s 35ms/step - loss: 0.5439 - accuracy: 0.7077 - auc: 0.7875 - precision: 0.6837 - recall: 0.7735 - binary_accuracy: 0.7077 - val_loss: 0.7681 - val_accuracy: 0.5802 - val_auc: 0.6055 - val_precision: 0.5788 - val_recall: 0.6063 - val_binary_accuracy: 0.5802\n",
      "Epoch 49/50\n",
      "627/627 [==============================] - 22s 35ms/step - loss: 0.5397 - accuracy: 0.7105 - auc: 0.7908 - precision: 0.6860 - recall: 0.7769 - binary_accuracy: 0.7105 - val_loss: 0.7698 - val_accuracy: 0.5890 - val_auc: 0.6162 - val_precision: 0.5841 - val_recall: 0.6337 - val_binary_accuracy: 0.5890\n",
      "Epoch 50/50\n",
      "627/627 [==============================] - 22s 35ms/step - loss: 0.5344 - accuracy: 0.7141 - auc: 0.7957 - precision: 0.6897 - recall: 0.7788 - binary_accuracy: 0.7141 - val_loss: 0.7709 - val_accuracy: 0.5880 - val_auc: 0.6122 - val_precision: 0.5828 - val_recall: 0.6357 - val_binary_accuracy: 0.5880\n"
     ]
    }
   ],
   "source": [
    "hist = m.fit(X_train, y_train, epochs=50, batch_size=64, validation_data=(X_val, y_val))"
   ]
  },
  {
   "cell_type": "code",
   "execution_count": 15,
   "metadata": {},
   "outputs": [
    {
     "name": "stdout",
     "output_type": "stream",
     "text": [
      "m parameter 50681\n",
      "loss :  0.7706377506256104\n",
      "acc :  0.595451831817627\n",
      "auc :  0.6220441460609436\n",
      "precision :  0.5809759497642517\n",
      "recall :  0.6609010696411133\n",
      "binary_accuracy :  0.595451831817627\n",
      "f1_score :  0.6183665864415574\n"
     ]
    }
   ],
   "source": [
    "loss, acc, auc, precision, recall, binary_accuracy = m.evaluate(X_test, y_test, verbose=0)\n",
    "print(\"m parameter\", m.count_params())\n",
    "print('loss : ', loss)\n",
    "print('acc : ', acc)\n",
    "print('auc : ', auc)\n",
    "print('precision : ', precision)\n",
    "print('recall : ', recall)\n",
    "print('binary_accuracy : ', binary_accuracy)\n",
    "#print f1-score with calculate recall precision\n",
    "\n",
    "f1_score = (2 * precision * recall) / (precision + recall)\n",
    "print('f1_score : ', f1_score)"
   ]
  },
  {
   "cell_type": "code",
   "execution_count": 16,
   "metadata": {},
   "outputs": [
    {
     "data": {
      "image/png": "[encoded data removed]",
      "text/plain": [
       "<Figure size 640x480 with 1 Axes>"
      ]
     },
     "metadata": {},
     "output_type": "display_data"
    }
   ],
   "source": [
    "from matplotlib import pyplot as plt\n",
    "\n",
    "plt.plot(hist.history['auc'])\n",
    "plt.plot(hist.history['val_auc'])\n",
    "plt.title('model auc')\n",
    "\n",
    "plt.ylabel('auc')\n",
    "plt.xlabel('epoch')\n",
    "plt.legend(['train', 'val'], loc='upper left')\n",
    "plt.show()"
   ]
  }
 ],
 "metadata": {
  "kernelspec": {
   "display_name": "myenv2",
   "language": "python",
   "name": "python3"
  },
  "language_info": {
   "codemirror_mode": {
    "name": "ipython",
    "version": 3
   },
   "file_extension": ".py",
   "mimetype": "text/x-python",
   "name": "python",
   "nbconvert_exporter": "python",
   "pygments_lexer": "ipython3",
   "version": "3.10.8"
  },
  "orig_nbformat": 4
 },
 "nbformat": 4,
 "nbformat_minor": 2
}
