{
 "cells": [
  {
   "cell_type": "code",
   "execution_count": 1,
   "metadata": {},
   "outputs": [],
   "source": [
    "import pandas as pd\n",
    "import numpy as np"
   ]
  },
  {
   "cell_type": "code",
   "execution_count": 2,
   "metadata": {},
   "outputs": [],
   "source": [
    "traffic = pd.read_csv(\"../dataset/last_data/accident_0_min_before.csv\", encoding='cp949')\n",
    "traffic_5min = pd.read_csv(\"../dataset/last_data/accident_5_min_before.csv\", encoding='cp949')\n",
    "traffic_10min = pd.read_csv(\"../dataset/last_data/accident_10_min_before.csv\", encoding='cp949')\n",
    "traffic_15min = pd.read_csv(\"../dataset/last_data/accident_15_min_before.csv\", encoding='cp949')\n",
    "\n",
    "\n",
    "non_traffic = pd.read_csv(\"../dataset/last_data/non_accident_0_min_before.csv\", encoding='cp949')\n",
    "non_traffic_5min = pd.read_csv(\"../dataset/last_data/non_accident_5_min_before.csv\", encoding='cp949')\n",
    "non_traffic_10min = pd.read_csv(\"../dataset/last_data/non_accident_10_min_before.csv\", encoding='cp949')\n",
    "non_traffic_15min = pd.read_csv(\"../dataset/last_data/non_accident_15_min_before.csv\", encoding='cp949')"
   ]
  },
  {
   "cell_type": "code",
   "execution_count": 3,
   "metadata": {},
   "outputs": [],
   "source": [
    "# non_traffic에서 랜덤으로 25136개 추출\n",
    "non_traffic = non_traffic.sample(n=25136, random_state=42)\n",
    "non_traffic_5min = non_traffic_5min.sample(n=25136, random_state=42)\n",
    "non_traffic_10min = non_traffic_10min.sample(n=25136, random_state=42)\n",
    "non_traffic_15min = non_traffic_15min.sample(n=25136, random_state=42)"
   ]
  },
  {
   "cell_type": "code",
   "execution_count": 4,
   "metadata": {},
   "outputs": [],
   "source": [
    "static_traffic = traffic[['lanes', 'speed_limit', 'length', 'bump', 'camera',]]\n",
    "static_non_traffic = non_traffic[['lanes', 'speed_limit', 'length', 'bump', 'camera',]]"
   ]
  },
  {
   "cell_type": "code",
   "execution_count": 5,
   "metadata": {},
   "outputs": [],
   "source": [
    "drop_traffic_data = traffic.drop(['datetime', 'link', 'lanes','speed_limit','length', 'bump', 'camera' ,'label'], axis=1)\n",
    "drop_non_traffic_data = non_traffic.drop([ 'datetime', 'link', 'lanes','speed_limit','length','bump', 'camera', 'label'], axis=1)\n",
    "\n",
    "drop_traffic_data_5 = traffic_5min.drop(['datetime', 'link', 'lanes','speed_limit','length','bump', 'camera','label'], axis=1)\n",
    "drop_non_traffic_data_5 = non_traffic_5min.drop([ 'datetime', 'link', 'lanes','speed_limit','length', 'bump', 'camera','label'], axis=1)\n",
    "\n",
    "drop_traffic_data_10 = traffic_10min.drop(['datetime', 'link', 'lanes','speed_limit','length' ,'bump', 'camera','label'], axis=1)\n",
    "drop_non_traffic_data_10 = non_traffic_10min.drop([ 'datetime', 'link', 'lanes','speed_limit','length','bump', 'camera','label'], axis=1)\n",
    "\n",
    "drop_traffic_data_15 = traffic_15min.drop(['datetime', 'link', 'lanes','speed_limit','length', 'bump', 'camera','label'], axis=1)\n",
    "drop_non_traffic_data_15 = non_traffic_15min.drop(['datetime', 'link', 'lanes','speed_limit','length','bump', 'camera','label'], axis=1)\n",
    "\n",
    "traffic_label = traffic['label']\n",
    "non_traffic_label = non_traffic['label']"
   ]
  },
  {
   "cell_type": "code",
   "execution_count": 6,
   "metadata": {},
   "outputs": [],
   "source": [
    "dynamic_traffic_5 = drop_traffic_data_5.values\n",
    "dynamic_traffic_10 = drop_traffic_data_10.values\n",
    "dynamic_traffic_15 = drop_traffic_data_15.values\n",
    "\n",
    "dynamic_non_traffic_5 = drop_non_traffic_data_5.values\n",
    "dynamic_non_traffic_10 = drop_non_traffic_data_10.values\n",
    "dynamic_non_traffic_15 = drop_non_traffic_data_15.values\n",
    "\n",
    "traffic_label = traffic_label.values\n",
    "non_traffic_label = non_traffic_label.values\n",
    "\n",
    "static_traffic = static_traffic.values\n",
    "static_non_traffic = static_non_traffic.values"
   ]
  },
  {
   "cell_type": "code",
   "execution_count": 7,
   "metadata": {},
   "outputs": [],
   "source": [
    "X, Y = [], []\n",
    "for accident in range(len(dynamic_traffic_5)):\n",
    "    X.append([dynamic_traffic_15[accident], dynamic_traffic_10[accident], dynamic_traffic_5[accident]])\n",
    "    Y.append(traffic_label[accident])\n",
    "for non_accident in range(len(dynamic_non_traffic_5)):\n",
    "    X.append([dynamic_non_traffic_15[non_accident], dynamic_non_traffic_10[non_accident], dynamic_non_traffic_5[non_accident]])\n",
    "    Y.append(non_traffic_label[non_accident])\n",
    "X = np.array(X)\n",
    "Y = np.array(Y)"
   ]
  },
  {
   "cell_type": "code",
   "execution_count": 8,
   "metadata": {},
   "outputs": [
    {
     "name": "stderr",
     "output_type": "stream",
     "text": [
      "/opt/anaconda3/envs/myenv2/lib/python3.10/site-packages/scipy/__init__.py:146: UserWarning: A NumPy version >=1.16.5 and <1.23.0 is required for this version of SciPy (detected version 1.23.5\n",
      "  warnings.warn(f\"A NumPy version >={np_minversion} and <{np_maxversion}\"\n"
     ]
    }
   ],
   "source": [
    "from sklearn.model_selection import train_test_split\n",
    "\n",
    "X_train, X_test, Y_train, Y_test = train_test_split(X, Y, test_size=0.2, random_state=40, shuffle=True)\n",
    "X_val, X_test, Y_val, Y_test = train_test_split(X_test, Y_test, test_size=0.5, random_state=40, shuffle=True)"
   ]
  },
  {
   "cell_type": "code",
   "execution_count": 9,
   "metadata": {},
   "outputs": [],
   "source": [
    "sX, sY = [], []\n",
    "\n",
    "for info in range(len(static_traffic)):\n",
    "    sX.append(static_traffic[info])\n",
    "    # sY.append(1) == traffic accident occured\n",
    "    sY.append(1)\n",
    "\n",
    "for info in range(len(static_non_traffic)):\n",
    "    sX.append(static_non_traffic[info])\n",
    "    # sY.append(0) == traffic accident not occured\n",
    "    sY.append(0)\n",
    "\n",
    "sX = np.array(sX)\n",
    "sY = np.array(sY)\n",
    "\n",
    "sX_train, sX_test, sY_train, sY_test = train_test_split(sX, sY, test_size=0.2, random_state=40, shuffle=True)\n",
    "sX_val, sX_test, sY_val, sY_test = train_test_split(sX_test, sY_test, test_size=0.5, random_state=40, shuffle=True)"
   ]
  },
  {
   "cell_type": "code",
   "execution_count": 10,
   "metadata": {},
   "outputs": [],
   "source": [
    "Y_train = Y_train.astype(float).reshape((-1,1))\n",
    "Y_val = Y_val.astype(float).reshape((-1,1))\n",
    "Y_test = Y_test.astype(float).reshape((-1,1))"
   ]
  },
  {
   "cell_type": "code",
   "execution_count": 11,
   "metadata": {},
   "outputs": [],
   "source": [
    "import tensorflow as tf\n",
    "from keras.layers import LSTM, Dense, Dropout, Input, concatenate, BatchNormalization, Reshape\n",
    "from keras.models import Model"
   ]
  },
  {
   "cell_type": "code",
   "execution_count": 38,
   "metadata": {},
   "outputs": [],
   "source": [
    "accident_data = tf.keras.Input(shape=(X.shape[1], X.shape[2]))\n",
    "static_data = tf.keras.Input(shape=(sX.shape[1],))\n",
    "\n",
    "# LSTM\n",
    "lstm_1 = tf.keras.layers.LSTM(32, return_sequences=True)(accident_data)\n",
    "lstm_2 = tf.keras.layers.LSTM(32, return_sequences=False)(lstm_1)\n",
    "# Fully connected layer\n",
    "dense = tf.keras.layers.Dense(20, activation='relu')(lstm_2)\n",
    "\n",
    "# 데이터 결합을 위한 형 변환\n",
    "accident_reshaped = Reshape((-1, 20))(dense)\n",
    "static_reshaped = Reshape((-1, sX.shape[1]))(static_data)\n",
    "\n",
    "combined_data = concatenate([accident_reshaped, static_reshaped])\n",
    "\n",
    "dense_1 = tf.keras.layers.Dense(50, activation='relu')(combined_data)\n",
    "dense_2 = tf.keras.layers.Dense(50, activation='relu')(dense_1)\n",
    "dense_3 = tf.keras.layers.Dense(1, activation='sigmoid')(dense_2)\n",
    "\n",
    "model = Model(inputs=[accident_data, static_data], outputs=dense_3)\n",
    "model.compile(loss='binary_crossentropy', optimizer='adam', metrics=['accuracy', tf.keras.metrics.AUC(name='auc'), tf.keras.metrics.Precision(), tf.keras.metrics.Recall(), tf.keras.metrics.BinaryAccuracy(threshold=0.5)])"
   ]
  },
  {
   "cell_type": "code",
   "execution_count": 39,
   "metadata": {},
   "outputs": [
    {
     "name": "stdout",
     "output_type": "stream",
     "text": [
      "Epoch 1/30\n",
      "1257/1257 [==============================] - 5s 2ms/step - loss: 0.5659 - accuracy: 0.6931 - auc: 0.7690 - precision_9: 0.7088 - recall_9: 0.6569 - binary_accuracy: 0.6931 - val_loss: 0.5418 - val_accuracy: 0.7177 - val_auc: 0.7957 - val_precision_9: 0.7420 - val_recall_9: 0.6705 - val_binary_accuracy: 0.7177\n",
      "Epoch 2/30\n",
      "1257/1257 [==============================] - 3s 2ms/step - loss: 0.5405 - accuracy: 0.7150 - auc: 0.7954 - precision_9: 0.7403 - recall_9: 0.6637 - binary_accuracy: 0.7150 - val_loss: 0.5429 - val_accuracy: 0.7122 - val_auc: 0.8004 - val_precision_9: 0.7942 - val_recall_9: 0.5753 - val_binary_accuracy: 0.7122\n",
      "Epoch 3/30\n",
      "1257/1257 [==============================] - 3s 2ms/step - loss: 0.5387 - accuracy: 0.7168 - auc: 0.7974 - precision_9: 0.7399 - recall_9: 0.6700 - binary_accuracy: 0.7168 - val_loss: 0.5376 - val_accuracy: 0.7231 - val_auc: 0.8010 - val_precision_9: 0.7258 - val_recall_9: 0.7201 - val_binary_accuracy: 0.7231\n",
      "Epoch 4/30\n",
      "1257/1257 [==============================] - 3s 2ms/step - loss: 0.5345 - accuracy: 0.7199 - auc: 0.8010 - precision_9: 0.7418 - recall_9: 0.6759 - binary_accuracy: 0.7199 - val_loss: 0.5323 - val_accuracy: 0.7259 - val_auc: 0.8064 - val_precision_9: 0.7703 - val_recall_9: 0.6463 - val_binary_accuracy: 0.7259\n",
      "Epoch 5/30\n",
      "1257/1257 [==============================] - 3s 2ms/step - loss: 0.5306 - accuracy: 0.7227 - auc: 0.8049 - precision_9: 0.7402 - recall_9: 0.6874 - binary_accuracy: 0.7227 - val_loss: 0.5299 - val_accuracy: 0.7334 - val_auc: 0.8062 - val_precision_9: 0.7547 - val_recall_9: 0.6943 - val_binary_accuracy: 0.7334\n",
      "Epoch 6/30\n",
      "1257/1257 [==============================] - 3s 2ms/step - loss: 0.5285 - accuracy: 0.7250 - auc: 0.8071 - precision_9: 0.7429 - recall_9: 0.6894 - binary_accuracy: 0.7250 - val_loss: 0.5255 - val_accuracy: 0.7334 - val_auc: 0.8106 - val_precision_9: 0.7576 - val_recall_9: 0.6891 - val_binary_accuracy: 0.7334\n",
      "Epoch 7/30\n",
      "1257/1257 [==============================] - 3s 2ms/step - loss: 0.5262 - accuracy: 0.7259 - auc: 0.8091 - precision_9: 0.7423 - recall_9: 0.6934 - binary_accuracy: 0.7259 - val_loss: 0.5267 - val_accuracy: 0.7316 - val_auc: 0.8096 - val_precision_9: 0.7536 - val_recall_9: 0.6911 - val_binary_accuracy: 0.7316\n",
      "Epoch 8/30\n",
      "1257/1257 [==============================] - 3s 2ms/step - loss: 0.5256 - accuracy: 0.7261 - auc: 0.8094 - precision_9: 0.7443 - recall_9: 0.6900 - binary_accuracy: 0.7261 - val_loss: 0.5282 - val_accuracy: 0.7316 - val_auc: 0.8091 - val_precision_9: 0.7599 - val_recall_9: 0.6800 - val_binary_accuracy: 0.7316\n",
      "Epoch 9/30\n",
      "1257/1257 [==============================] - 3s 2ms/step - loss: 0.5236 - accuracy: 0.7278 - auc: 0.8112 - precision_9: 0.7439 - recall_9: 0.6959 - binary_accuracy: 0.7278 - val_loss: 0.5253 - val_accuracy: 0.7326 - val_auc: 0.8130 - val_precision_9: 0.7799 - val_recall_9: 0.6507 - val_binary_accuracy: 0.7326\n",
      "Epoch 10/30\n",
      "1257/1257 [==============================] - 3s 2ms/step - loss: 0.5235 - accuracy: 0.7288 - auc: 0.8114 - precision_9: 0.7458 - recall_9: 0.6954 - binary_accuracy: 0.7288 - val_loss: 0.5341 - val_accuracy: 0.7211 - val_auc: 0.8135 - val_precision_9: 0.6901 - val_recall_9: 0.8061 - val_binary_accuracy: 0.7211\n",
      "Epoch 11/30\n",
      "1257/1257 [==============================] - 3s 2ms/step - loss: 0.5225 - accuracy: 0.7300 - auc: 0.8122 - precision_9: 0.7459 - recall_9: 0.6987 - binary_accuracy: 0.7300 - val_loss: 0.5255 - val_accuracy: 0.7281 - val_auc: 0.8123 - val_precision_9: 0.7239 - val_recall_9: 0.7403 - val_binary_accuracy: 0.7281\n",
      "Epoch 12/30\n",
      "1257/1257 [==============================] - 3s 2ms/step - loss: 0.5217 - accuracy: 0.7289 - auc: 0.8129 - precision_9: 0.7446 - recall_9: 0.6979 - binary_accuracy: 0.7289 - val_loss: 0.5277 - val_accuracy: 0.7285 - val_auc: 0.8094 - val_precision_9: 0.7697 - val_recall_9: 0.6546 - val_binary_accuracy: 0.7285\n",
      "Epoch 13/30\n",
      "1257/1257 [==============================] - 3s 2ms/step - loss: 0.5213 - accuracy: 0.7327 - auc: 0.8136 - precision_9: 0.7477 - recall_9: 0.7034 - binary_accuracy: 0.7327 - val_loss: 0.5253 - val_accuracy: 0.7360 - val_auc: 0.8106 - val_precision_9: 0.7693 - val_recall_9: 0.6768 - val_binary_accuracy: 0.7360\n",
      "Epoch 14/30\n",
      "1257/1257 [==============================] - 3s 2ms/step - loss: 0.5207 - accuracy: 0.7317 - auc: 0.8138 - precision_9: 0.7482 - recall_9: 0.6997 - binary_accuracy: 0.7317 - val_loss: 0.5260 - val_accuracy: 0.7307 - val_auc: 0.8130 - val_precision_9: 0.7877 - val_recall_9: 0.6340 - val_binary_accuracy: 0.7307\n",
      "Epoch 15/30\n",
      "1257/1257 [==============================] - 3s 2ms/step - loss: 0.5204 - accuracy: 0.7309 - auc: 0.8141 - precision_9: 0.7479 - recall_9: 0.6979 - binary_accuracy: 0.7309 - val_loss: 0.5220 - val_accuracy: 0.7322 - val_auc: 0.8151 - val_precision_9: 0.7727 - val_recall_9: 0.6606 - val_binary_accuracy: 0.7322\n",
      "Epoch 16/30\n",
      "1257/1257 [==============================] - 3s 2ms/step - loss: 0.5189 - accuracy: 0.7332 - auc: 0.8152 - precision_9: 0.7492 - recall_9: 0.7023 - binary_accuracy: 0.7332 - val_loss: 0.5244 - val_accuracy: 0.7233 - val_auc: 0.8127 - val_precision_9: 0.7143 - val_recall_9: 0.7474 - val_binary_accuracy: 0.7233\n",
      "Epoch 17/30\n",
      "1257/1257 [==============================] - 3s 2ms/step - loss: 0.5189 - accuracy: 0.7309 - auc: 0.8150 - precision_9: 0.7469 - recall_9: 0.6998 - binary_accuracy: 0.7309 - val_loss: 0.5243 - val_accuracy: 0.7283 - val_auc: 0.8126 - val_precision_9: 0.7254 - val_recall_9: 0.7375 - val_binary_accuracy: 0.7283\n",
      "Epoch 18/30\n",
      "1257/1257 [==============================] - 3s 2ms/step - loss: 0.5182 - accuracy: 0.7325 - auc: 0.8159 - precision_9: 0.7486 - recall_9: 0.7012 - binary_accuracy: 0.7325 - val_loss: 0.5214 - val_accuracy: 0.7289 - val_auc: 0.8136 - val_precision_9: 0.7281 - val_recall_9: 0.7335 - val_binary_accuracy: 0.7289\n",
      "Epoch 19/30\n",
      "1257/1257 [==============================] - 3s 2ms/step - loss: 0.5179 - accuracy: 0.7341 - auc: 0.8160 - precision_9: 0.7501 - recall_9: 0.7032 - binary_accuracy: 0.7341 - val_loss: 0.5221 - val_accuracy: 0.7303 - val_auc: 0.8152 - val_precision_9: 0.7202 - val_recall_9: 0.7561 - val_binary_accuracy: 0.7303\n",
      "Epoch 20/30\n",
      "1257/1257 [==============================] - 3s 2ms/step - loss: 0.5174 - accuracy: 0.7327 - auc: 0.8164 - precision_9: 0.7488 - recall_9: 0.7013 - binary_accuracy: 0.7327 - val_loss: 0.5258 - val_accuracy: 0.7279 - val_auc: 0.8104 - val_precision_9: 0.7630 - val_recall_9: 0.6638 - val_binary_accuracy: 0.7279\n",
      "Epoch 21/30\n",
      "1257/1257 [==============================] - 3s 2ms/step - loss: 0.5169 - accuracy: 0.7313 - auc: 0.8166 - precision_9: 0.7470 - recall_9: 0.7007 - binary_accuracy: 0.7313 - val_loss: 0.5286 - val_accuracy: 0.7279 - val_auc: 0.8117 - val_precision_9: 0.7777 - val_recall_9: 0.6408 - val_binary_accuracy: 0.7279\n",
      "Epoch 22/30\n",
      "1257/1257 [==============================] - 3s 2ms/step - loss: 0.5172 - accuracy: 0.7334 - auc: 0.8165 - precision_9: 0.7494 - recall_9: 0.7023 - binary_accuracy: 0.7334 - val_loss: 0.5252 - val_accuracy: 0.7273 - val_auc: 0.8124 - val_precision_9: 0.7726 - val_recall_9: 0.6467 - val_binary_accuracy: 0.7273\n",
      "Epoch 23/30\n",
      "1257/1257 [==============================] - 3s 2ms/step - loss: 0.5162 - accuracy: 0.7333 - auc: 0.8175 - precision_9: 0.7495 - recall_9: 0.7021 - binary_accuracy: 0.7333 - val_loss: 0.5227 - val_accuracy: 0.7299 - val_auc: 0.8130 - val_precision_9: 0.7619 - val_recall_9: 0.6713 - val_binary_accuracy: 0.7299\n",
      "Epoch 24/30\n",
      "1257/1257 [==============================] - 3s 2ms/step - loss: 0.5166 - accuracy: 0.7325 - auc: 0.8169 - precision_9: 0.7496 - recall_9: 0.6992 - binary_accuracy: 0.7325 - val_loss: 0.5232 - val_accuracy: 0.7287 - val_auc: 0.8150 - val_precision_9: 0.7159 - val_recall_9: 0.7613 - val_binary_accuracy: 0.7287\n",
      "Epoch 25/30\n",
      "1257/1257 [==============================] - 3s 2ms/step - loss: 0.5149 - accuracy: 0.7358 - auc: 0.8187 - precision_9: 0.7519 - recall_9: 0.7049 - binary_accuracy: 0.7358 - val_loss: 0.5229 - val_accuracy: 0.7324 - val_auc: 0.8135 - val_precision_9: 0.7544 - val_recall_9: 0.6919 - val_binary_accuracy: 0.7324\n",
      "Epoch 26/30\n",
      "1257/1257 [==============================] - 3s 2ms/step - loss: 0.5149 - accuracy: 0.7343 - auc: 0.8186 - precision_9: 0.7508 - recall_9: 0.7025 - binary_accuracy: 0.7343 - val_loss: 0.5218 - val_accuracy: 0.7295 - val_auc: 0.8136 - val_precision_9: 0.7617 - val_recall_9: 0.6705 - val_binary_accuracy: 0.7295\n",
      "Epoch 27/30\n",
      "1257/1257 [==============================] - 3s 2ms/step - loss: 0.5142 - accuracy: 0.7374 - auc: 0.8194 - precision_9: 0.7545 - recall_9: 0.7049 - binary_accuracy: 0.7374 - val_loss: 0.5263 - val_accuracy: 0.7287 - val_auc: 0.8100 - val_precision_9: 0.7589 - val_recall_9: 0.6729 - val_binary_accuracy: 0.7287\n",
      "Epoch 28/30\n",
      "1257/1257 [==============================] - 3s 2ms/step - loss: 0.5143 - accuracy: 0.7368 - auc: 0.8189 - precision_9: 0.7529 - recall_9: 0.7061 - binary_accuracy: 0.7368 - val_loss: 0.5225 - val_accuracy: 0.7313 - val_auc: 0.8129 - val_precision_9: 0.7670 - val_recall_9: 0.6669 - val_binary_accuracy: 0.7313\n",
      "Epoch 29/30\n",
      "1257/1257 [==============================] - 3s 2ms/step - loss: 0.5141 - accuracy: 0.7360 - auc: 0.8192 - precision_9: 0.7525 - recall_9: 0.7043 - binary_accuracy: 0.7360 - val_loss: 0.5264 - val_accuracy: 0.7301 - val_auc: 0.8126 - val_precision_9: 0.7767 - val_recall_9: 0.6483 - val_binary_accuracy: 0.7301\n",
      "Epoch 30/30\n",
      "1257/1257 [==============================] - 3s 2ms/step - loss: 0.5142 - accuracy: 0.7360 - auc: 0.8193 - precision_9: 0.7525 - recall_9: 0.7045 - binary_accuracy: 0.7360 - val_loss: 0.5221 - val_accuracy: 0.7348 - val_auc: 0.8130 - val_precision_9: 0.7408 - val_recall_9: 0.7252 - val_binary_accuracy: 0.7348\n",
      "m parameter 18513\n",
      "loss :  0.5232751965522766\n",
      "acc :  0.7326968908309937\n",
      "auc :  0.8144657015800476\n",
      "precision :  0.7324579358100891\n",
      "recall :  0.7206298112869263\n",
      "binary_accuracy :  0.7326968908309937\n",
      "f1_score :  0.7264957331213329\n"
     ]
    }
   ],
   "source": [
    "hist = model.fit([X_train, sX_train], Y_train, epochs=30, batch_size=32, validation_data=([X_val, sX_val], Y_val), verbose=1)\n",
    "\n",
    "loss, acc, auc, precision, recall, binary_accuracy = model.evaluate([X_test, sX_test], Y_test, verbose=0)\n",
    "print(\"m parameter\", model.count_params())\n",
    "print('loss : ', loss)\n",
    "print('acc : ', acc)\n",
    "print('auc : ', auc)\n",
    "print('precision : ', precision)\n",
    "print('recall : ', recall)\n",
    "print('binary_accuracy : ', binary_accuracy)\n",
    "#print f1-score with calculate recall precision\n",
    "\n",
    "f1_score = (2 * precision * recall) / (precision + recall)\n",
    "print('f1_score : ', f1_score)"
   ]
  }
 ],
 "metadata": {
  "kernelspec": {
   "display_name": "myenv2",
   "language": "python",
   "name": "python3"
  },
  "language_info": {
   "codemirror_mode": {
    "name": "ipython",
    "version": 3
   },
   "file_extension": ".py",
   "mimetype": "text/x-python",
   "name": "python",
   "nbconvert_exporter": "python",
   "pygments_lexer": "ipython3",
   "version": "3.10.8"
  },
  "orig_nbformat": 4
 },
 "nbformat": 4,
 "nbformat_minor": 2
}
