{
 "cells": [
  {
   "cell_type": "markdown",
   "metadata": {},
   "source": [
    "> ### 파일 경로만 수정해주세요"
   ]
  },
  {
   "cell_type": "code",
   "execution_count": 1,
   "metadata": {},
   "outputs": [],
   "source": [
    "import pandas as pd\n",
    "import numpy as np\n",
    "import tensorflow as tf\n",
    "from tensorflow.keras.layers import LSTM, Dense, Input, concatenate, Flatten, Reshape\n",
    "from tensorflow.keras.models import Model\n",
    "from sklearn.model_selection import train_test_split\n",
    "\n",
    "traffic_5min = pd.read_csv(\"../seq=4, shift=10/accident_10_min_before.csv\", encoding='cp949', index_col=0)\n",
    "traffic_10min = pd.read_csv(\"../seq=4, shift=10/accident_20_min_before.csv\", encoding='cp949', index_col=0)\n",
    "traffic_15min = pd.read_csv(\"../seq=4, shift=10/accident_30_min_before.csv\", encoding='cp949', index_col=0)\n",
    "traffic_20min = pd.read_csv(\"../seq=4, shift=10/accident_40_min_before.csv\", encoding='cp949', index_col=0)\n",
    "\n",
    "non_traffic_5min = pd.read_csv(\"../seq=4, shift=10/non_accident_10_min_before.csv\", encoding='cp949', index_col=0)\n",
    "non_traffic_10min = pd.read_csv(\"../seq=4, shift=10/non_accident_20_min_before.csv\", encoding='cp949', index_col=0)\n",
    "non_traffic_15min = pd.read_csv(\"../seq=4, shift=10/non_accident_30_min_before.csv\", encoding='cp949', index_col=0)\n",
    "non_traffic_20min = pd.read_csv(\"../seq=4, shift=10/non_accident_40_min_before.csv\", encoding='cp949', index_col=0)"
   ]
  },
  {
   "cell_type": "markdown",
   "metadata": {},
   "source": [
    "> ### data.sample(개수) 로 원하는 샘플링 비율 맞출 수 있습니다.\n",
    "> #### 1 : 1 = len(data) , 1 : 2 = len(data) * 2..."
   ]
  },
  {
   "cell_type": "code",
   "execution_count": 2,
   "metadata": {},
   "outputs": [],
   "source": [
    "non_traffic_5min = non_traffic_5min.sample(len(traffic_5min))\n",
    "non_traffic_10min = non_traffic_10min.sample(len(traffic_5min))\n",
    "non_traffic_15min = non_traffic_15min.sample(len(traffic_5min))\n",
    "non_traffic_20min = non_traffic_20min.sample(len(traffic_5min))"
   ]
  },
  {
   "cell_type": "code",
   "execution_count": 3,
   "metadata": {},
   "outputs": [],
   "source": [
    "static_traffic = traffic_5min[['lanes', 'speed_limit', 'length', 'bump', 'camera']].to_numpy()\n",
    "static_non_traffic = non_traffic_5min[['lanes', 'speed_limit', 'length', 'bump', 'camera']].to_numpy()"
   ]
  },
  {
   "cell_type": "code",
   "execution_count": 4,
   "metadata": {},
   "outputs": [],
   "source": [
    "dynamic_traffic_5min = traffic_5min.drop(['datetime', 'link', 'lanes','speed_limit','length', 'bump', 'camera' ,'label'], axis=1).to_numpy()\n",
    "dynamic_traffic_10min = traffic_10min.drop(['datetime', 'link', 'lanes','speed_limit','length', 'bump', 'camera' ,'label'], axis=1).to_numpy()\n",
    "dynamic_traffic_15min = traffic_15min.drop(['datetime', 'link', 'lanes','speed_limit','length', 'bump', 'camera' ,'label'], axis=1).to_numpy()\n",
    "dynamic_traffic_20min = traffic_20min.drop(['datetime', 'link', 'lanes','speed_limit','length', 'bump', 'camera' ,'label'], axis=1).to_numpy()\n",
    "\n",
    "dynamic_non_traffic_5min = non_traffic_5min.drop(['datetime', 'link', 'lanes','speed_limit','length', 'bump', 'camera' ,'label'], axis=1).to_numpy()\n",
    "dynamic_non_traffic_10min = non_traffic_10min.drop(['datetime', 'link', 'lanes','speed_limit','length', 'bump', 'camera' ,'label'], axis=1).to_numpy()\n",
    "dynamic_non_traffic_15min = non_traffic_15min.drop(['datetime', 'link', 'lanes','speed_limit','length', 'bump', 'camera' ,'label'], axis=1).to_numpy()\n",
    "dynamic_non_traffic_20min = non_traffic_20min.drop(['datetime', 'link', 'lanes','speed_limit','length', 'bump', 'camera' ,'label'], axis=1).to_numpy()\n"
   ]
  },
  {
   "cell_type": "code",
   "execution_count": 5,
   "metadata": {},
   "outputs": [],
   "source": [
    "traffic_label = traffic_5min['label'].to_numpy()\n",
    "non_traffic_label = non_traffic_5min['label'].to_numpy()"
   ]
  },
  {
   "cell_type": "code",
   "execution_count": 6,
   "metadata": {},
   "outputs": [],
   "source": [
    "X, Y = [], []\n",
    "for accident in range(len(dynamic_traffic_5min)):\n",
    "    X.append([dynamic_traffic_20min[accident], dynamic_traffic_15min[accident], dynamic_traffic_10min[accident], dynamic_traffic_5min[accident]])\n",
    "    Y.append(traffic_label[accident])\n",
    "\n",
    "X = np.array(X)\n",
    "Y = np.array(Y)\n",
    "\n",
    "posx_train, posx_test, posy_train, posy_test = train_test_split(X, Y, test_size=0.2, random_state=42, shuffle=True)\n",
    "posx_val, posx_test, posy_val, posy_test = train_test_split(posx_test, posy_test, test_size=0.5, random_state=42, shuffle=True)\n",
    "\n",
    "psttx_train, psttx_test, pstty_train, pstty_test = train_test_split(static_traffic, Y, test_size=0.2, random_state=42, shuffle=True)\n",
    "psttx_val, psttx_test, pstty_val, pstty_test = train_test_split(psttx_test, pstty_test, test_size=0.5, random_state=42, shuffle=True)\n"
   ]
  },
  {
   "cell_type": "code",
   "execution_count": 7,
   "metadata": {},
   "outputs": [],
   "source": [
    "X, Y = [], []\n",
    "for non_accident in range(len(dynamic_non_traffic_5min)):\n",
    "    X.append([dynamic_non_traffic_20min[non_accident], dynamic_non_traffic_15min[non_accident], dynamic_non_traffic_10min[non_accident], dynamic_non_traffic_5min[non_accident]])\n",
    "    Y.append(non_traffic_label[non_accident])\n",
    "\n",
    "X = np.array(X)\n",
    "Y = np.array(Y)\n",
    "\n",
    "negx_train, negx_test, negy_train, negy_test = train_test_split(X, Y, test_size=0.2, random_state=44, shuffle=True)\n",
    "negx_val, negx_test, negy_val, negy_test = train_test_split(negx_test, negy_test, test_size=0.5, random_state=44, shuffle=True)\n",
    "\n",
    "nsttx_train, nsttx_test, nstty_train, nstty_test = train_test_split(static_non_traffic, Y, test_size=0.2, random_state=44, shuffle=True)\n",
    "nsttx_val, nsttx_test, nstty_val, nstty_test = train_test_split(nsttx_test, nstty_test, test_size=0.5, random_state=44, shuffle=True)"
   ]
  },
  {
   "cell_type": "markdown",
   "metadata": {},
   "source": [
    "> ### posx, negx는 dynamic feature를 positive, negative로 나누었습니다.\n",
    "> ### psttx, nsttx는 static feature를 positive, negative로 나누었습니다."
   ]
  },
  {
   "cell_type": "code",
   "execution_count": 8,
   "metadata": {},
   "outputs": [],
   "source": [
    "X_train = np.concatenate((posx_train, negx_train), axis=0)\n",
    "X_val = np.concatenate((posx_val, negx_val), axis=0)\n",
    "X_test = np.concatenate((posx_test, negx_test), axis=0)\n",
    "\n",
    "sX_train = np.concatenate((psttx_train, nsttx_train), axis=0)\n",
    "sX_val = np.concatenate((psttx_val, nsttx_val), axis=0)\n",
    "sX_test = np.concatenate((psttx_test, nsttx_test), axis=0)\n",
    "\n",
    "Y_train = np.concatenate((posy_train, negy_train), axis=0)\n",
    "Y_val = np.concatenate((posy_val, negy_val), axis=0)\n",
    "Y_test = np.concatenate((posy_test, negy_test), axis=0)"
   ]
  },
  {
   "cell_type": "markdown",
   "metadata": {},
   "source": [
    "> ### shuffled_indices를 통해 Train, Val, Test에 대해서 각각 셔플링을 진행하되, 셔플링된 인덱스는 Task별 Dynamic, Static, Label에 공유되도록 하였습니다."
   ]
  },
  {
   "cell_type": "code",
   "execution_count": 9,
   "metadata": {},
   "outputs": [],
   "source": [
    "shuffled_indices = np.random.permutation(len(X_train))\n",
    "X_train = X_train[shuffled_indices]\n",
    "sX_train = sX_train[shuffled_indices]\n",
    "Y_train = Y_train[shuffled_indices]\n",
    "\n",
    "shuffled_indices = np.random.permutation(len(X_val))\n",
    "X_val = X_val[shuffled_indices]\n",
    "sX_val = sX_val[shuffled_indices]\n",
    "Y_val = Y_val[shuffled_indices]\n",
    "\n",
    "shuffled_indices = np.random.permutation(len(X_test))\n",
    "X_test = X_test[shuffled_indices]\n",
    "sX_test = sX_test[shuffled_indices]\n",
    "Y_test = Y_test[shuffled_indices]"
   ]
  },
  {
   "cell_type": "markdown",
   "metadata": {},
   "source": [
    "> ### Label을 활용하여 밑에 있는 코드에서 샘플링 비율이 맞는지 확인할 수 있습니다."
   ]
  },
  {
   "cell_type": "markdown",
   "metadata": {},
   "source": [
    "> #### Train 비율"
   ]
  },
  {
   "cell_type": "code",
   "execution_count": 10,
   "metadata": {},
   "outputs": [
    {
     "data": {
      "text/plain": [
       "{0: 19711, 1: 19711}"
      ]
     },
     "execution_count": 10,
     "metadata": {},
     "output_type": "execute_result"
    }
   ],
   "source": [
    "unique, counts = np.unique(Y_train, return_counts = True)\n",
    "uniq_cnt_dict = dict(zip(unique, counts))\n",
    "uniq_cnt_dict"
   ]
  },
  {
   "cell_type": "markdown",
   "metadata": {},
   "source": [
    "> #### Validation 비율"
   ]
  },
  {
   "cell_type": "code",
   "execution_count": 11,
   "metadata": {},
   "outputs": [
    {
     "data": {
      "text/plain": [
       "{0: 2464, 1: 2464}"
      ]
     },
     "execution_count": 11,
     "metadata": {},
     "output_type": "execute_result"
    }
   ],
   "source": [
    "unique, counts = np.unique(Y_val, return_counts = True)\n",
    "uniq_cnt_dict = dict(zip(unique, counts))\n",
    "uniq_cnt_dict"
   ]
  },
  {
   "cell_type": "markdown",
   "metadata": {},
   "source": [
    "> #### Test 비율"
   ]
  },
  {
   "cell_type": "code",
   "execution_count": 12,
   "metadata": {},
   "outputs": [
    {
     "data": {
      "text/plain": [
       "{0: 2464, 1: 2464}"
      ]
     },
     "execution_count": 12,
     "metadata": {},
     "output_type": "execute_result"
    }
   ],
   "source": [
    "unique, counts = np.unique(Y_test, return_counts = True)\n",
    "uniq_cnt_dict = dict(zip(unique, counts))\n",
    "uniq_cnt_dict"
   ]
  },
  {
   "cell_type": "code",
   "execution_count": 13,
   "metadata": {},
   "outputs": [],
   "source": [
    "def LS_DS(ls, ls_ds, ds):\n",
    "    input_dy = Input(shape=(4, 11))\n",
    "    input_st = Input(shape=(5,))\n",
    "\n",
    "    # Dynamic Feature\n",
    "    lstm_1 = LSTM(ls, return_sequences=True)(input_dy)\n",
    "    lstm_2 = LSTM(ls + 32, return_sequences=False)(lstm_1)\n",
    "    dense_1 = Dense(ls_ds, activation='relu')(lstm_2)\n",
    "\n",
    "    # Static Feature\n",
    "    dense_2 = Dense(ds, activation='relu')(input_st)\n",
    "    dense_3 = Dense(ds, activation='relu')(dense_2)\n",
    "    \n",
    "    # Concatenate\n",
    "    concat = concatenate([dense_1, dense_3], axis=1)\n",
    "    dense_4 = Dense(20, activation='relu')(concat)\n",
    "\n",
    "    # Output\n",
    "    flat = Flatten()(dense_4)\n",
    "    out = Dense(1, activation='sigmoid')(flat)\n",
    "\n",
    "    m = Model ([input_dy, input_st], out)\n",
    "    m.compile(loss='binary_crossentropy', optimizer='adam', metrics=['accuracy', tf.keras.metrics.AUC(name='auc'), tf.keras.metrics.Precision(), tf.keras.metrics.Recall(), tf.keras.metrics.BinaryAccuracy(threshold=0.5)])\n",
    "   \n",
    "    return m"
   ]
  },
  {
   "cell_type": "code",
   "execution_count": null,
   "metadata": {},
   "outputs": [],
   "source": [
    "m = LS_DS(32, 40, 50)\n",
    "\n",
    "hist = m.fit([X_train, sX_train], Y_train, validation_data=([X_val, sX_val], Y_val), epochs=50, batch_size=64, verbose=1)"
   ]
  },
  {
   "cell_type": "code",
   "execution_count": null,
   "metadata": {},
   "outputs": [
    {
     "name": "stdout",
     "output_type": "stream",
     "text": [
      "157/157 [==============================] - 0s 1ms/step - loss: 0.6519 - accuracy: 0.6140 - auc: 0.6578 - precision_7: 0.5965 - recall_7: 0.6850 - binary_accuracy: 0.6140\n",
      "m parameter 35635\n",
      "loss :  0.6518973708152771\n",
      "acc :  0.614003598690033\n",
      "auc :  0.6578006744384766\n",
      "precision :  0.5964973568916321\n",
      "recall :  0.6850361824035645\n",
      "binary_accuracy :  0.614003598690033\n",
      "f1_score :  0.6377082762946488\n"
     ]
    }
   ],
   "source": [
    "loss, acc, auc, precision, recall, binary_accuracy = m.evaluate([X_test, sX_test], Y_test, batch_size=32)\n",
    "\n",
    "print(\"m parameter\", m.count_params())\n",
    "print('loss : ', loss)\n",
    "print('acc : ', acc)\n",
    "print('auc : ', auc)\n",
    "print('precision : ', precision)\n",
    "print('recall : ', recall)\n",
    "print('binary_accuracy : ', binary_accuracy)\n",
    "#print f1-score with calculate recall precision\n",
    "\n",
    "f1_score = (2 * precision * recall) / (precision + recall)\n",
    "print('f1_score : ', f1_score)"
   ]
  },
  {
   "cell_type": "code",
   "execution_count": null,
   "metadata": {},
   "outputs": [
    {
     "data": {
      "image/png": "[encoded data removed]",
      "text/plain": [
       "<Figure size 640x480 with 1 Axes>"
      ]
     },
     "metadata": {},
     "output_type": "display_data"
    }
   ],
   "source": [
    "from matplotlib import pyplot as plt\n",
    "\n",
    "plt.plot(hist.history['auc'])\n",
    "plt.plot(hist.history['val_auc'])\n",
    "plt.title('model auc')\n",
    "\n",
    "plt.ylabel('auc')\n",
    "plt.xlabel('epoch')\n",
    "plt.legend(['train', 'val'], loc='upper left')\n",
    "plt.show()"
   ]
  }
 ],
 "metadata": {
  "kernelspec": {
   "display_name": "myenv2",
   "language": "python",
   "name": "python3"
  },
  "language_info": {
   "codemirror_mode": {
    "name": "ipython",
    "version": 3
   },
   "file_extension": ".py",
   "mimetype": "text/x-python",
   "name": "python",
   "nbconvert_exporter": "python",
   "pygments_lexer": "ipython3",
   "version": "3.9.17"
  },
  "orig_nbformat": 4
 },
 "nbformat": 4,
 "nbformat_minor": 2
}
