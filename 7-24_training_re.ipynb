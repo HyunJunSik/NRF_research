{
 "cells": [
  {
   "cell_type": "code",
   "execution_count": 1,
   "metadata": {},
   "outputs": [],
   "source": [
    "import pandas as pd\n",
    "import numpy as np"
   ]
  },
  {
   "cell_type": "code",
   "execution_count": 2,
   "metadata": {},
   "outputs": [],
   "source": [
    "traffic = pd.read_csv(\"../dataset/last_data/accident_0_min_before.csv\", encoding='cp949')\n",
    "traffic_5min = pd.read_csv(\"../dataset/last_data/accident_5_min_before.csv\", encoding='cp949')\n",
    "traffic_10min = pd.read_csv(\"../dataset/last_data/accident_10_min_before.csv\", encoding='cp949')\n",
    "traffic_15min = pd.read_csv(\"../dataset/last_data/accident_15_min_before.csv\", encoding='cp949')\n",
    "\n",
    "\n",
    "non_traffic = pd.read_csv(\"../dataset/last_data/non_accident_0_min_before.csv\", encoding='cp949')\n",
    "non_traffic_5min = pd.read_csv(\"../dataset/last_data/non_accident_5_min_before.csv\", encoding='cp949')\n",
    "non_traffic_10min = pd.read_csv(\"../dataset/last_data/non_accident_10_min_before.csv\", encoding='cp949')\n",
    "non_traffic_15min = pd.read_csv(\"../dataset/last_data/non_accident_15_min_before.csv\", encoding='cp949')"
   ]
  },
  {
   "cell_type": "code",
   "execution_count": 3,
   "metadata": {},
   "outputs": [],
   "source": [
    "# non_traffic에서 랜덤으로 25136개 추출\n",
    "non_traffic = non_traffic.sample(n=25136, random_state=42)\n",
    "non_traffic_5min = non_traffic_5min.sample(n=25136, random_state=42)\n",
    "non_traffic_10min = non_traffic_10min.sample(n=25136, random_state=42)\n",
    "non_traffic_15min = non_traffic_15min.sample(n=25136, random_state=42)"
   ]
  },
  {
   "cell_type": "code",
   "execution_count": 4,
   "metadata": {},
   "outputs": [],
   "source": [
    "static_traffic = traffic[['lanes', 'speed_limit', 'length', 'bump', 'camera',]]\n",
    "static_non_traffic = non_traffic[['lanes', 'speed_limit', 'length', 'bump', 'camera',]]"
   ]
  },
  {
   "cell_type": "code",
   "execution_count": 5,
   "metadata": {},
   "outputs": [],
   "source": [
    "drop_traffic_data = traffic.drop(['datetime', 'link', 'lanes','speed_limit','length', 'bump', 'camera' ,'label'], axis=1)\n",
    "drop_non_traffic_data = non_traffic.drop([ 'datetime', 'link', 'lanes','speed_limit','length','bump', 'camera', 'label'], axis=1)\n",
    "\n",
    "drop_traffic_data_5 = traffic_5min.drop(['datetime', 'link', 'lanes','speed_limit','length','bump', 'camera','label'], axis=1)\n",
    "drop_non_traffic_data_5 = non_traffic_5min.drop([ 'datetime', 'link', 'lanes','speed_limit','length', 'bump', 'camera','label'], axis=1)\n",
    "\n",
    "drop_traffic_data_10 = traffic_10min.drop(['datetime', 'link', 'lanes','speed_limit','length' ,'bump', 'camera','label'], axis=1)\n",
    "drop_non_traffic_data_10 = non_traffic_10min.drop([ 'datetime', 'link', 'lanes','speed_limit','length','bump', 'camera','label'], axis=1)\n",
    "\n",
    "drop_traffic_data_15 = traffic_15min.drop(['datetime', 'link', 'lanes','speed_limit','length', 'bump', 'camera','label'], axis=1)\n",
    "drop_non_traffic_data_15 = non_traffic_15min.drop(['datetime', 'link', 'lanes','speed_limit','length','bump', 'camera','label'], axis=1)\n",
    "\n",
    "traffic_label = traffic['label']\n",
    "non_traffic_label = non_traffic['label']"
   ]
  },
  {
   "cell_type": "code",
   "execution_count": 6,
   "metadata": {},
   "outputs": [],
   "source": [
    "dynamic_traffic_5 = drop_traffic_data_5.values\n",
    "dynamic_traffic_10 = drop_traffic_data_10.values\n",
    "dynamic_traffic_15 = drop_traffic_data_15.values\n",
    "\n",
    "dynamic_non_traffic_5 = drop_non_traffic_data_5.values\n",
    "dynamic_non_traffic_10 = drop_non_traffic_data_10.values\n",
    "dynamic_non_traffic_15 = drop_non_traffic_data_15.values\n",
    "\n",
    "traffic_label = traffic_label.values\n",
    "non_traffic_label = non_traffic_label.values\n",
    "\n",
    "static_traffic = static_traffic.values\n",
    "static_non_traffic = static_non_traffic.values"
   ]
  },
  {
   "cell_type": "code",
   "execution_count": 7,
   "metadata": {},
   "outputs": [],
   "source": [
    "X, Y = [], []\n",
    "cnt = 0\n",
    "for accident in [dynamic_traffic_15, dynamic_traffic_10, dynamic_traffic_5]:\n",
    "    X.append([])\n",
    "    Y.append([])\n",
    "    for info in range(len(dynamic_traffic_15)):\n",
    "        X[cnt].append(accident[info])\n",
    "        Y[cnt].append(traffic_label[info])\n",
    "    cnt += 1\n",
    "\n",
    "cnt = 0\n",
    "for non_accident in [dynamic_non_traffic_15, dynamic_non_traffic_10, dynamic_non_traffic_5]:\n",
    "    for info in range(len(dynamic_non_traffic_15)):\n",
    "        X[cnt].append(non_accident[info])\n",
    "        Y[cnt].append(non_traffic_label[info])\n",
    "    X[cnt] = np.array(X[cnt])\n",
    "    Y[cnt] = np.array(Y[cnt])\n",
    "    cnt += 1"
   ]
  },
  {
   "cell_type": "code",
   "execution_count": 8,
   "metadata": {},
   "outputs": [
    {
     "name": "stderr",
     "output_type": "stream",
     "text": [
      "/opt/anaconda3/envs/myenv2/lib/python3.10/site-packages/scipy/__init__.py:146: UserWarning: A NumPy version >=1.16.5 and <1.23.0 is required for this version of SciPy (detected version 1.23.5\n",
      "  warnings.warn(f\"A NumPy version >={np_minversion} and <{np_maxversion}\"\n"
     ]
    }
   ],
   "source": [
    "from sklearn.model_selection import train_test_split\n",
    "\n",
    "def split_data(data, label):\n",
    "\n",
    "    X_train, X_test, Y_train, Y_test = train_test_split(data, label, test_size=0.2, random_state=40, shuffle=True)\n",
    "    X_val, X_test, Y_val, Y_test = train_test_split(X_test, Y_test, test_size=0.5, random_state=40, shuffle=True)\n",
    "\n",
    "    return X_train, X_test, X_val, Y_train, Y_test, Y_val"
   ]
  },
  {
   "cell_type": "code",
   "execution_count": 9,
   "metadata": {},
   "outputs": [],
   "source": [
    "X_train = []\n",
    "X_test = []\n",
    "X_val = []\n",
    "Y_train = []\n",
    "Y_test = []\n",
    "Y_val = []\n",
    "\n",
    "for sp in range(3):\n",
    "    data = split_data(X[sp], Y[sp])\n",
    "    X_train.append(data[0])\n",
    "    X_test.append(data[1])\n",
    "    X_val.append(data[2])\n",
    "    Y_train.append(data[3])\n",
    "    Y_test.append(data[4])\n",
    "    Y_val.append(data[5])"
   ]
  },
  {
   "attachments": {},
   "cell_type": "markdown",
   "metadata": {},
   "source": [
    "### i == 0 15min before\n",
    "### i == 1 10min before\n",
    "### i == 2 5min before"
   ]
  },
  {
   "cell_type": "code",
   "execution_count": 10,
   "metadata": {},
   "outputs": [],
   "source": [
    "for i in range(3):\n",
    "    X_train[i] = X_train[i].reshape(X_train[i].shape[0], 1, X_train[i].shape[1])\n",
    "    X_test[i] = X_test[i].reshape(X_test[i].shape[0], 1, X_test[i].shape[1])\n",
    "    X_val[i] = X_val[i].reshape(X_val[i].shape[0], 1, X_val[i].shape[1])"
   ]
  },
  {
   "attachments": {},
   "cell_type": "markdown",
   "metadata": {},
   "source": [
    "### Static Feature Split"
   ]
  },
  {
   "cell_type": "code",
   "execution_count": 11,
   "metadata": {},
   "outputs": [],
   "source": [
    "sX, sY = [], []\n",
    "\n",
    "for info in range(len(static_traffic)):\n",
    "    sX.append(static_traffic[info])\n",
    "    # sY.append(1) == traffic accident occured\n",
    "    sY.append(1)\n",
    "\n",
    "for info in range(len(static_non_traffic)):\n",
    "    sX.append(static_non_traffic[info])\n",
    "    # sY.append(0) == traffic accident not occured\n",
    "    sY.append(0)\n",
    "\n",
    "sX = np.array(sX)\n",
    "sY = np.array(sY)\n",
    "\n",
    "sX_train, sX_test, sY_train, sY_test = train_test_split(sX, sY, test_size=0.2, random_state=40, shuffle=True)\n",
    "sX_val, sX_test, sY_val, sY_test = train_test_split(sX_test, sY_test, test_size=0.5, random_state=40, shuffle=True)"
   ]
  },
  {
   "cell_type": "code",
   "execution_count": 12,
   "metadata": {},
   "outputs": [],
   "source": [
    "Y_train[0] = Y_train[0].astype(float).reshape((-1,1))\n",
    "Y_val[0] = Y_val[0].astype(float).reshape((-1,1))\n",
    "Y_test[0] = Y_test[0].astype(float).reshape((-1,1))"
   ]
  },
  {
   "cell_type": "code",
   "execution_count": 13,
   "metadata": {},
   "outputs": [],
   "source": [
    "import tensorflow as tf\n",
    "from tensorflow.keras.layers import LSTM, Dense, Input, concatenate, Flatten, Reshape\n",
    "from tensorflow.keras.models import Model"
   ]
  },
  {
   "cell_type": "code",
   "execution_count": 49,
   "metadata": {},
   "outputs": [],
   "source": [
    "def LS_DS(ls, ls_ds, ds):\n",
    "    input_5 = Input(shape=(1, 11))\n",
    "    input_10 = Input(shape=(1, 11))\n",
    "    input_15 = Input(shape=(1, 11))\n",
    "\n",
    "    input_st = Input(shape=(5,))\n",
    "\n",
    "    lstm_1 = LSTM(ls, return_sequences=False)(input_5)\n",
    "    dense_1 = Dense(ls_ds, activation='relu')(lstm_1)\n",
    "\n",
    "    lstm_2 = LSTM(ls, return_sequences=False)(input_10)\n",
    "    dense_2 = Dense(ls_ds, activation='relu')(lstm_2)\n",
    "\n",
    "    lstm_3 = LSTM(ls, return_sequences=False)(input_15)\n",
    "    dense_3 = Dense(ls_ds, activation='relu')(lstm_3)\n",
    "\n",
    "    con_1 = concatenate([dense_1, dense_2, dense_3])\n",
    "\n",
    "    lstm_reshape = Reshape((-1, 30))(con_1)\n",
    "    st_reshape = Reshape((-1, sX.shape[1]))(input_st)\n",
    "    combine = concatenate([lstm_reshape, st_reshape])\n",
    "\n",
    "\n",
    "    dense_4 = Dense(ds, activation='relu')(combine)\n",
    "    dense_5 = Dense(ds, activation='relu')(dense_4)\n",
    "    out = Dense(1, activation='sigmoid')(dense_5)\n",
    "\n",
    "    m = Model(inputs=[input_15, input_10, input_5, input_st], outputs=out)\n",
    "    m.compile(loss='binary_crossentropy', optimizer='adam', metrics=['accuracy', tf.keras.metrics.AUC(name='auc'), tf.keras.metrics.Precision(), tf.keras.metrics.Recall(), tf.keras.metrics.BinaryAccuracy(threshold=0.5)])\n",
    "    \n",
    "    return m"
   ]
  },
  {
   "cell_type": "code",
   "execution_count": 50,
   "metadata": {},
   "outputs": [
    {
     "name": "stdout",
     "output_type": "stream",
     "text": [
      "Epoch 1/30\n",
      "1257/1257 [==============================] - 5s 2ms/step - loss: 0.5667 - accuracy: 0.6904 - auc: 0.7689 - precision_13: 0.6970 - recall_13: 0.6752 - binary_accuracy: 0.6904 - val_loss: 0.5424 - val_accuracy: 0.7145 - val_auc: 0.7949 - val_precision_13: 0.7658 - val_recall_13: 0.6209 - val_binary_accuracy: 0.7145\n",
      "Epoch 2/30\n",
      "1257/1257 [==============================] - 2s 1ms/step - loss: 0.5399 - accuracy: 0.7143 - auc: 0.7959 - precision_13: 0.7400 - recall_13: 0.6619 - binary_accuracy: 0.7143 - val_loss: 0.5399 - val_accuracy: 0.7223 - val_auc: 0.7993 - val_precision_13: 0.7809 - val_recall_13: 0.6205 - val_binary_accuracy: 0.7223\n",
      "Epoch 3/30\n",
      "1257/1257 [==============================] - 2s 1ms/step - loss: 0.5352 - accuracy: 0.7202 - auc: 0.8006 - precision_13: 0.7445 - recall_13: 0.6718 - binary_accuracy: 0.7202 - val_loss: 0.5366 - val_accuracy: 0.7235 - val_auc: 0.8014 - val_precision_13: 0.7202 - val_recall_13: 0.7339 - val_binary_accuracy: 0.7235\n",
      "Epoch 4/30\n",
      "1257/1257 [==============================] - 2s 1ms/step - loss: 0.5320 - accuracy: 0.7217 - auc: 0.8038 - precision_13: 0.7439 - recall_13: 0.6774 - binary_accuracy: 0.7217 - val_loss: 0.5324 - val_accuracy: 0.7255 - val_auc: 0.8069 - val_precision_13: 0.7194 - val_recall_13: 0.7423 - val_binary_accuracy: 0.7255\n",
      "Epoch 5/30\n",
      "1257/1257 [==============================] - 2s 1ms/step - loss: 0.5293 - accuracy: 0.7239 - auc: 0.8064 - precision_13: 0.7447 - recall_13: 0.6827 - binary_accuracy: 0.7239 - val_loss: 0.5327 - val_accuracy: 0.7291 - val_auc: 0.8060 - val_precision_13: 0.7799 - val_recall_13: 0.6408 - val_binary_accuracy: 0.7291\n",
      "Epoch 6/30\n",
      "1257/1257 [==============================] - 2s 1ms/step - loss: 0.5270 - accuracy: 0.7268 - auc: 0.8084 - precision_13: 0.7480 - recall_13: 0.6853 - binary_accuracy: 0.7268 - val_loss: 0.5295 - val_accuracy: 0.7243 - val_auc: 0.8092 - val_precision_13: 0.7163 - val_recall_13: 0.7458 - val_binary_accuracy: 0.7243\n",
      "Epoch 7/30\n",
      "1257/1257 [==============================] - 2s 1ms/step - loss: 0.5272 - accuracy: 0.7273 - auc: 0.8081 - precision_13: 0.7474 - recall_13: 0.6879 - binary_accuracy: 0.7273 - val_loss: 0.5247 - val_accuracy: 0.7316 - val_auc: 0.8109 - val_precision_13: 0.7615 - val_recall_13: 0.6772 - val_binary_accuracy: 0.7316\n",
      "Epoch 8/30\n",
      "1257/1257 [==============================] - 2s 1ms/step - loss: 0.5250 - accuracy: 0.7285 - auc: 0.8099 - precision_13: 0.7481 - recall_13: 0.6901 - binary_accuracy: 0.7285 - val_loss: 0.5251 - val_accuracy: 0.7318 - val_auc: 0.8113 - val_precision_13: 0.7382 - val_recall_13: 0.7213 - val_binary_accuracy: 0.7318\n",
      "Epoch 9/30\n",
      "1257/1257 [==============================] - 2s 1ms/step - loss: 0.5249 - accuracy: 0.7268 - auc: 0.8099 - precision_13: 0.7462 - recall_13: 0.6887 - binary_accuracy: 0.7268 - val_loss: 0.5238 - val_accuracy: 0.7303 - val_auc: 0.8109 - val_precision_13: 0.7475 - val_recall_13: 0.6983 - val_binary_accuracy: 0.7303\n",
      "Epoch 10/30\n",
      "1257/1257 [==============================] - 2s 1ms/step - loss: 0.5237 - accuracy: 0.7305 - auc: 0.8111 - precision_13: 0.7480 - recall_13: 0.6964 - binary_accuracy: 0.7305 - val_loss: 0.5321 - val_accuracy: 0.7259 - val_auc: 0.8089 - val_precision_13: 0.7082 - val_recall_13: 0.7716 - val_binary_accuracy: 0.7259\n",
      "Epoch 11/30\n",
      "1257/1257 [==============================] - 2s 1ms/step - loss: 0.5228 - accuracy: 0.7312 - auc: 0.8120 - precision_13: 0.7500 - recall_13: 0.6948 - binary_accuracy: 0.7312 - val_loss: 0.5247 - val_accuracy: 0.7342 - val_auc: 0.8115 - val_precision_13: 0.7654 - val_recall_13: 0.6780 - val_binary_accuracy: 0.7342\n",
      "Epoch 12/30\n",
      "1257/1257 [==============================] - 2s 1ms/step - loss: 0.5229 - accuracy: 0.7295 - auc: 0.8116 - precision_13: 0.7466 - recall_13: 0.6959 - binary_accuracy: 0.7295 - val_loss: 0.5238 - val_accuracy: 0.7330 - val_auc: 0.8116 - val_precision_13: 0.7537 - val_recall_13: 0.6951 - val_binary_accuracy: 0.7330\n",
      "Epoch 13/30\n",
      "1257/1257 [==============================] - 2s 1ms/step - loss: 0.5216 - accuracy: 0.7293 - auc: 0.8125 - precision_13: 0.7473 - recall_13: 0.6940 - binary_accuracy: 0.7293 - val_loss: 0.5260 - val_accuracy: 0.7257 - val_auc: 0.8116 - val_precision_13: 0.7662 - val_recall_13: 0.6523 - val_binary_accuracy: 0.7257\n",
      "Epoch 14/30\n",
      "1257/1257 [==============================] - 2s 1ms/step - loss: 0.5215 - accuracy: 0.7323 - auc: 0.8128 - precision_13: 0.7504 - recall_13: 0.6973 - binary_accuracy: 0.7323 - val_loss: 0.5235 - val_accuracy: 0.7261 - val_auc: 0.8113 - val_precision_13: 0.7323 - val_recall_13: 0.7157 - val_binary_accuracy: 0.7261\n",
      "Epoch 15/30\n",
      "1257/1257 [==============================] - 2s 1ms/step - loss: 0.5210 - accuracy: 0.7313 - auc: 0.8132 - precision_13: 0.7497 - recall_13: 0.6958 - binary_accuracy: 0.7313 - val_loss: 0.5256 - val_accuracy: 0.7261 - val_auc: 0.8112 - val_precision_13: 0.7193 - val_recall_13: 0.7446 - val_binary_accuracy: 0.7261\n",
      "Epoch 16/30\n",
      "1257/1257 [==============================] - 2s 1ms/step - loss: 0.5196 - accuracy: 0.7312 - auc: 0.8143 - precision_13: 0.7486 - recall_13: 0.6972 - binary_accuracy: 0.7312 - val_loss: 0.5278 - val_accuracy: 0.7269 - val_auc: 0.8101 - val_precision_13: 0.7639 - val_recall_13: 0.6594 - val_binary_accuracy: 0.7269\n",
      "Epoch 17/30\n",
      "1257/1257 [==============================] - 2s 1ms/step - loss: 0.5204 - accuracy: 0.7326 - auc: 0.8140 - precision_13: 0.7502 - recall_13: 0.6984 - binary_accuracy: 0.7326 - val_loss: 0.5259 - val_accuracy: 0.7311 - val_auc: 0.8101 - val_precision_13: 0.7614 - val_recall_13: 0.6757 - val_binary_accuracy: 0.7311\n",
      "Epoch 18/30\n",
      "1257/1257 [==============================] - 2s 1ms/step - loss: 0.5187 - accuracy: 0.7327 - auc: 0.8153 - precision_13: 0.7493 - recall_13: 0.7007 - binary_accuracy: 0.7327 - val_loss: 0.5282 - val_accuracy: 0.7223 - val_auc: 0.8095 - val_precision_13: 0.7141 - val_recall_13: 0.7446 - val_binary_accuracy: 0.7223\n",
      "Epoch 19/30\n",
      "1257/1257 [==============================] - 2s 1ms/step - loss: 0.5178 - accuracy: 0.7363 - auc: 0.8162 - precision_13: 0.7534 - recall_13: 0.7036 - binary_accuracy: 0.7363 - val_loss: 0.5238 - val_accuracy: 0.7297 - val_auc: 0.8113 - val_precision_13: 0.7628 - val_recall_13: 0.6693 - val_binary_accuracy: 0.7297\n",
      "Epoch 20/30\n",
      "1257/1257 [==============================] - 2s 2ms/step - loss: 0.5178 - accuracy: 0.7341 - auc: 0.8161 - precision_13: 0.7521 - recall_13: 0.6995 - binary_accuracy: 0.7341 - val_loss: 0.5232 - val_accuracy: 0.7318 - val_auc: 0.8121 - val_precision_13: 0.7386 - val_recall_13: 0.7205 - val_binary_accuracy: 0.7318\n",
      "Epoch 21/30\n",
      "1257/1257 [==============================] - 2s 2ms/step - loss: 0.5179 - accuracy: 0.7334 - auc: 0.8161 - precision_13: 0.7503 - recall_13: 0.7008 - binary_accuracy: 0.7334 - val_loss: 0.5264 - val_accuracy: 0.7259 - val_auc: 0.8116 - val_precision_13: 0.7119 - val_recall_13: 0.7621 - val_binary_accuracy: 0.7259\n",
      "Epoch 22/30\n",
      "1257/1257 [==============================] - 2s 1ms/step - loss: 0.5175 - accuracy: 0.7335 - auc: 0.8164 - precision_13: 0.7500 - recall_13: 0.7015 - binary_accuracy: 0.7335 - val_loss: 0.5211 - val_accuracy: 0.7307 - val_auc: 0.8134 - val_precision_13: 0.7541 - val_recall_13: 0.6872 - val_binary_accuracy: 0.7307\n",
      "Epoch 23/30\n",
      "1257/1257 [==============================] - 2s 1ms/step - loss: 0.5170 - accuracy: 0.7352 - auc: 0.8169 - precision_13: 0.7524 - recall_13: 0.7024 - binary_accuracy: 0.7352 - val_loss: 0.5246 - val_accuracy: 0.7295 - val_auc: 0.8117 - val_precision_13: 0.7537 - val_recall_13: 0.6844 - val_binary_accuracy: 0.7295\n",
      "Epoch 24/30\n",
      "1257/1257 [==============================] - 2s 1ms/step - loss: 0.5164 - accuracy: 0.7352 - auc: 0.8174 - precision_13: 0.7517 - recall_13: 0.7034 - binary_accuracy: 0.7352 - val_loss: 0.5234 - val_accuracy: 0.7289 - val_auc: 0.8114 - val_precision_13: 0.7501 - val_recall_13: 0.6891 - val_binary_accuracy: 0.7289\n",
      "Epoch 25/30\n",
      "1257/1257 [==============================] - 2s 1ms/step - loss: 0.5153 - accuracy: 0.7360 - auc: 0.8184 - precision_13: 0.7528 - recall_13: 0.7040 - binary_accuracy: 0.7360 - val_loss: 0.5206 - val_accuracy: 0.7309 - val_auc: 0.8132 - val_precision_13: 0.7385 - val_recall_13: 0.7177 - val_binary_accuracy: 0.7309\n",
      "Epoch 26/30\n",
      "1257/1257 [==============================] - 2s 1ms/step - loss: 0.5152 - accuracy: 0.7363 - auc: 0.8183 - precision_13: 0.7518 - recall_13: 0.7067 - binary_accuracy: 0.7363 - val_loss: 0.5245 - val_accuracy: 0.7251 - val_auc: 0.8132 - val_precision_13: 0.7116 - val_recall_13: 0.7601 - val_binary_accuracy: 0.7251\n",
      "Epoch 27/30\n",
      "1257/1257 [==============================] - 2s 1ms/step - loss: 0.5139 - accuracy: 0.7363 - auc: 0.8196 - precision_13: 0.7528 - recall_13: 0.7049 - binary_accuracy: 0.7363 - val_loss: 0.5229 - val_accuracy: 0.7277 - val_auc: 0.8129 - val_precision_13: 0.7467 - val_recall_13: 0.6919 - val_binary_accuracy: 0.7277\n",
      "Epoch 28/30\n",
      "1257/1257 [==============================] - 2s 1ms/step - loss: 0.5143 - accuracy: 0.7369 - auc: 0.8193 - precision_13: 0.7527 - recall_13: 0.7069 - binary_accuracy: 0.7369 - val_loss: 0.5254 - val_accuracy: 0.7265 - val_auc: 0.8106 - val_precision_13: 0.7439 - val_recall_13: 0.6935 - val_binary_accuracy: 0.7265\n",
      "Epoch 29/30\n",
      "1257/1257 [==============================] - 2s 1ms/step - loss: 0.5139 - accuracy: 0.7377 - auc: 0.8195 - precision_13: 0.7538 - recall_13: 0.7072 - binary_accuracy: 0.7377 - val_loss: 0.5204 - val_accuracy: 0.7354 - val_auc: 0.8142 - val_precision_13: 0.7513 - val_recall_13: 0.7066 - val_binary_accuracy: 0.7354\n",
      "Epoch 30/30\n",
      "1257/1257 [==============================] - 2s 1ms/step - loss: 0.5133 - accuracy: 0.7389 - auc: 0.8201 - precision_13: 0.7552 - recall_13: 0.7082 - binary_accuracy: 0.7389 - val_loss: 0.5232 - val_accuracy: 0.7295 - val_auc: 0.8136 - val_precision_13: 0.7670 - val_recall_13: 0.6618 - val_binary_accuracy: 0.7295\n",
      "m parameter 22287\n",
      "loss :  0.519354522228241\n",
      "acc :  0.7362768650054932\n",
      "auc :  0.8174882531166077\n",
      "precision :  0.7687996029853821\n",
      "recall :  0.6645135283470154\n",
      "binary_accuracy :  0.7362768650054932\n",
      "f1_score :  0.7128627033461874\n"
     ]
    }
   ],
   "source": [
    "m = LS_DS(32, 10, 50)\n",
    "\n",
    "hist = m.fit([X_train[0], X_train[1], X_train[2], sX_train], Y_train[0], epochs=30, batch_size=32, validation_data=([X_val[0], X_val[1], X_val[2], sX_val], Y_val[0]), verbose=1)\n",
    "\n",
    "loss, acc, auc, precision, recall, binary_accuracy = m.evaluate([X_test[0], X_test[1], X_test[2], sX_test], Y_test[0], verbose=0)\n",
    "print(\"m parameter\", m.count_params())\n",
    "print('loss : ', loss)\n",
    "print('acc : ', acc)\n",
    "print('auc : ', auc)\n",
    "print('precision : ', precision)\n",
    "print('recall : ', recall)\n",
    "print('binary_accuracy : ', binary_accuracy)\n",
    "#print f1-score with calculate recall precision\n",
    "\n",
    "f1_score = (2 * precision * recall) / (precision + recall)\n",
    "print('f1_score : ', f1_score)"
   ]
  }
 ],
 "metadata": {
  "kernelspec": {
   "display_name": "myenv2",
   "language": "python",
   "name": "python3"
  },
  "language_info": {
   "codemirror_mode": {
    "name": "ipython",
    "version": 3
   },
   "file_extension": ".py",
   "mimetype": "text/x-python",
   "name": "python",
   "nbconvert_exporter": "python",
   "pygments_lexer": "ipython3",
   "version": "3.10.8"
  },
  "orig_nbformat": 4
 },
 "nbformat": 4,
 "nbformat_minor": 2
}
