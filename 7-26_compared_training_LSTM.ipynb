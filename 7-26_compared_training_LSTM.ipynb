{
 "cells": [
  {
   "cell_type": "code",
   "execution_count": 9,
   "metadata": {},
   "outputs": [],
   "source": [
    "import pandas as pd\n",
    "import numpy as np"
   ]
  },
  {
   "cell_type": "code",
   "execution_count": 10,
   "metadata": {},
   "outputs": [],
   "source": [
    "traffic = pd.read_csv(\"../dataset/last_data/accident_0_min_before.csv\", encoding='cp949')\n",
    "traffic_5min = pd.read_csv(\"../dataset/last_data/accident_5_min_before.csv\", encoding='cp949')\n",
    "traffic_10min = pd.read_csv(\"../dataset/last_data/accident_10_min_before.csv\", encoding='cp949')\n",
    "traffic_15min = pd.read_csv(\"../dataset/last_data/accident_15_min_before.csv\", encoding='cp949')\n",
    "\n",
    "\n",
    "non_traffic = pd.read_csv(\"../dataset/last_data/non_accident_0_min_before.csv\", encoding='cp949')\n",
    "non_traffic_5min = pd.read_csv(\"../dataset/last_data/non_accident_5_min_before.csv\", encoding='cp949')\n",
    "non_traffic_10min = pd.read_csv(\"../dataset/last_data/non_accident_10_min_before.csv\", encoding='cp949')\n",
    "non_traffic_15min = pd.read_csv(\"../dataset/last_data/non_accident_15_min_before.csv\", encoding='cp949')"
   ]
  },
  {
   "cell_type": "code",
   "execution_count": 11,
   "metadata": {},
   "outputs": [],
   "source": [
    "# non_traffic에서 랜덤으로 25136개 추출\n",
    "non_traffic = non_traffic.sample(n=25136, random_state=42)\n",
    "non_traffic_5min = non_traffic_5min.sample(n=25136, random_state=42)\n",
    "non_traffic_10min = non_traffic_10min.sample(n=25136, random_state=42)\n",
    "non_traffic_15min = non_traffic_15min.sample(n=25136, random_state=42)"
   ]
  },
  {
   "cell_type": "code",
   "execution_count": 12,
   "metadata": {},
   "outputs": [],
   "source": [
    "static_traffic = traffic[['lanes', 'speed_limit', 'length', 'bump', 'camera',]]\n",
    "static_non_traffic = non_traffic[['lanes', 'speed_limit', 'length', 'bump', 'camera',]]"
   ]
  },
  {
   "cell_type": "code",
   "execution_count": 13,
   "metadata": {},
   "outputs": [],
   "source": [
    "drop_traffic_data = traffic.drop(['datetime', 'link', 'lanes','speed_limit','length', 'bump', 'camera' ,'label'], axis=1)\n",
    "drop_non_traffic_data = non_traffic.drop([ 'datetime', 'link', 'lanes','speed_limit','length','bump', 'camera', 'label'], axis=1)\n",
    "\n",
    "drop_traffic_data_5 = traffic_5min.drop(['datetime', 'link', 'lanes','speed_limit','length','bump', 'camera','label'], axis=1)\n",
    "drop_non_traffic_data_5 = non_traffic_5min.drop([ 'datetime', 'link', 'lanes','speed_limit','length', 'bump', 'camera','label'], axis=1)\n",
    "\n",
    "drop_traffic_data_10 = traffic_10min.drop(['datetime', 'link', 'lanes','speed_limit','length' ,'bump', 'camera','label'], axis=1)\n",
    "drop_non_traffic_data_10 = non_traffic_10min.drop([ 'datetime', 'link', 'lanes','speed_limit','length','bump', 'camera','label'], axis=1)\n",
    "\n",
    "drop_traffic_data_15 = traffic_15min.drop(['datetime', 'link', 'lanes','speed_limit','length', 'bump', 'camera','label'], axis=1)\n",
    "drop_non_traffic_data_15 = non_traffic_15min.drop(['datetime', 'link', 'lanes','speed_limit','length','bump', 'camera','label'], axis=1)\n",
    "\n",
    "traffic_label = traffic['label']\n",
    "non_traffic_label = non_traffic['label']"
   ]
  },
  {
   "cell_type": "code",
   "execution_count": 14,
   "metadata": {},
   "outputs": [],
   "source": [
    "dynamic_traffic_5 = drop_traffic_data_5.values\n",
    "dynamic_traffic_10 = drop_traffic_data_10.values\n",
    "dynamic_traffic_15 = drop_traffic_data_15.values\n",
    "\n",
    "dynamic_non_traffic_5 = drop_non_traffic_data_5.values\n",
    "dynamic_non_traffic_10 = drop_non_traffic_data_10.values\n",
    "dynamic_non_traffic_15 = drop_non_traffic_data_15.values\n",
    "\n",
    "traffic_label = traffic_label.values\n",
    "non_traffic_label = non_traffic_label.values\n",
    "\n",
    "static_traffic = static_traffic.values\n",
    "static_non_traffic = static_non_traffic.values"
   ]
  },
  {
   "cell_type": "code",
   "execution_count": 15,
   "metadata": {},
   "outputs": [],
   "source": [
    "accident_data_5min = np.concatenate((dynamic_traffic_5, static_traffic), axis=1)\n",
    "accident_data_10min = np.concatenate((dynamic_traffic_10, static_traffic), axis=1)\n",
    "accident_data_15min = np.concatenate((dynamic_traffic_15, static_traffic), axis=1)\n",
    "\n",
    "non_accident_data_5min = np.concatenate((dynamic_non_traffic_5, static_non_traffic), axis=1)\n",
    "non_accident_data_10min = np.concatenate((dynamic_non_traffic_10, static_non_traffic), axis=1)\n",
    "non_accident_data_15min = np.concatenate((dynamic_non_traffic_15, static_non_traffic), axis=1)"
   ]
  },
  {
   "cell_type": "code",
   "execution_count": 16,
   "metadata": {},
   "outputs": [],
   "source": [
    "from sklearn.model_selection import train_test_split\n",
    "\n",
    "X, Y = [], []\n",
    "for accident in range(len(dynamic_traffic_5)):\n",
    "    X.append([dynamic_traffic_15[accident], dynamic_traffic_10[accident], dynamic_traffic_5[accident]])\n",
    "    Y.append(traffic_label[accident])\n",
    "for non_accident in range(len(dynamic_non_traffic_5)):\n",
    "    X.append([dynamic_non_traffic_15[non_accident], dynamic_non_traffic_10[non_accident], dynamic_non_traffic_5[non_accident]])\n",
    "    Y.append(non_traffic_label[non_accident])\n",
    "X = np.array(X)\n",
    "Y = np.array(Y)\n",
    "\n",
    "X_train, X_test, Y_train, Y_test = train_test_split(X, Y, test_size=0.2, random_state=40, shuffle=True)\n",
    "X_val, X_test, Y_val, Y_test = train_test_split(X_test, Y_test, test_size=0.5, random_state=40, shuffle=True)"
   ]
  },
  {
   "cell_type": "code",
   "execution_count": 17,
   "metadata": {},
   "outputs": [],
   "source": [
    "import tensorflow as tf\n",
    "from tensorflow.keras.layers import LSTM, Dense, Input, SimpleRNN\n",
    "from tensorflow.keras.models import Model\n"
   ]
  },
  {
   "cell_type": "code",
   "execution_count": 20,
   "metadata": {},
   "outputs": [],
   "source": [
    "input_data = Input(shape=(X_train.shape[1], X_train.shape[2]))\n",
    "\n",
    "lstm_1 = LSTM(32, return_sequences=True)(input_data)\n",
    "lstm_2 = LSTM(32, return_sequences=False)(lstm_1)\n",
    "dense_1 = Dense(50, activation='relu')(lstm_2)\n",
    "dense_2 = Dense(1, activation='sigmoid')(dense_1)\n",
    "\n",
    "lstm_model = Model(inputs=input_data, outputs=dense_2)\n",
    "lstm_model.compile(loss='binary_crossentropy', optimizer='adam', metrics=['accuracy', tf.keras.metrics.AUC(name='auc'), tf.keras.metrics.Precision(), tf.keras.metrics.Recall(), tf.keras.metrics.BinaryAccuracy(threshold=0.5)])"
   ]
  },
  {
   "cell_type": "code",
   "execution_count": 21,
   "metadata": {},
   "outputs": [
    {
     "name": "stdout",
     "output_type": "stream",
     "text": [
      "Epoch 1/30\n",
      "1257/1257 [==============================] - 4s 2ms/step - loss: 0.6655 - accuracy: 0.5856 - auc: 0.6240 - precision_1: 0.6016 - recall_1: 0.5104 - binary_accuracy: 0.5856 - val_loss: 0.6646 - val_accuracy: 0.5898 - val_auc: 0.6376 - val_precision_1: 0.6788 - val_recall_1: 0.3462 - val_binary_accuracy: 0.5898\n",
      "Epoch 2/30\n",
      "1257/1257 [==============================] - 3s 2ms/step - loss: 0.6579 - accuracy: 0.5944 - auc: 0.6391 - precision_1: 0.6342 - recall_1: 0.4489 - binary_accuracy: 0.5944 - val_loss: 0.6602 - val_accuracy: 0.5900 - val_auc: 0.6355 - val_precision_1: 0.5965 - val_recall_1: 0.5650 - val_binary_accuracy: 0.5900\n",
      "Epoch 3/30\n",
      "1257/1257 [==============================] - 3s 2ms/step - loss: 0.6567 - accuracy: 0.5971 - auc: 0.6415 - precision_1: 0.6371 - recall_1: 0.4537 - binary_accuracy: 0.5971 - val_loss: 0.6601 - val_accuracy: 0.5940 - val_auc: 0.6395 - val_precision_1: 0.6347 - val_recall_1: 0.4492 - val_binary_accuracy: 0.5940\n",
      "Epoch 4/30\n",
      "1257/1257 [==============================] - 2s 2ms/step - loss: 0.6559 - accuracy: 0.5976 - auc: 0.6438 - precision_1: 0.6237 - recall_1: 0.4950 - binary_accuracy: 0.5976 - val_loss: 0.6585 - val_accuracy: 0.6021 - val_auc: 0.6433 - val_precision_1: 0.6178 - val_recall_1: 0.5428 - val_binary_accuracy: 0.6021\n",
      "Epoch 5/30\n",
      "1257/1257 [==============================] - 2s 2ms/step - loss: 0.6552 - accuracy: 0.5965 - auc: 0.6449 - precision_1: 0.6188 - recall_1: 0.5057 - binary_accuracy: 0.5965 - val_loss: 0.6589 - val_accuracy: 0.6008 - val_auc: 0.6448 - val_precision_1: 0.6090 - val_recall_1: 0.5706 - val_binary_accuracy: 0.6008\n",
      "Epoch 6/30\n",
      "1257/1257 [==============================] - 2s 2ms/step - loss: 0.6545 - accuracy: 0.5989 - auc: 0.6467 - precision_1: 0.6214 - recall_1: 0.5093 - binary_accuracy: 0.5989 - val_loss: 0.6587 - val_accuracy: 0.5918 - val_auc: 0.6420 - val_precision_1: 0.6371 - val_recall_1: 0.4330 - val_binary_accuracy: 0.5918\n",
      "Epoch 7/30\n",
      "1257/1257 [==============================] - 2s 2ms/step - loss: 0.6546 - accuracy: 0.6016 - auc: 0.6470 - precision_1: 0.6267 - recall_1: 0.5053 - binary_accuracy: 0.6016 - val_loss: 0.6581 - val_accuracy: 0.5996 - val_auc: 0.6428 - val_precision_1: 0.6221 - val_recall_1: 0.5143 - val_binary_accuracy: 0.5996\n",
      "Epoch 8/30\n",
      "1257/1257 [==============================] - 2s 2ms/step - loss: 0.6544 - accuracy: 0.6015 - auc: 0.6471 - precision_1: 0.6222 - recall_1: 0.5197 - binary_accuracy: 0.6015 - val_loss: 0.6577 - val_accuracy: 0.6006 - val_auc: 0.6458 - val_precision_1: 0.6288 - val_recall_1: 0.4976 - val_binary_accuracy: 0.6006\n",
      "Epoch 9/30\n",
      "1257/1257 [==============================] - 2s 2ms/step - loss: 0.6539 - accuracy: 0.6035 - auc: 0.6486 - precision_1: 0.6260 - recall_1: 0.5169 - binary_accuracy: 0.6035 - val_loss: 0.6583 - val_accuracy: 0.5944 - val_auc: 0.6447 - val_precision_1: 0.6368 - val_recall_1: 0.4457 - val_binary_accuracy: 0.5944\n",
      "Epoch 10/30\n",
      "1257/1257 [==============================] - 2s 2ms/step - loss: 0.6533 - accuracy: 0.6028 - auc: 0.6496 - precision_1: 0.6262 - recall_1: 0.5126 - binary_accuracy: 0.6028 - val_loss: 0.6590 - val_accuracy: 0.6063 - val_auc: 0.6462 - val_precision_1: 0.6075 - val_recall_1: 0.6082 - val_binary_accuracy: 0.6063\n",
      "Epoch 11/30\n",
      "1257/1257 [==============================] - 2s 2ms/step - loss: 0.6534 - accuracy: 0.6036 - auc: 0.6498 - precision_1: 0.6217 - recall_1: 0.5320 - binary_accuracy: 0.6036 - val_loss: 0.6579 - val_accuracy: 0.6047 - val_auc: 0.6479 - val_precision_1: 0.6298 - val_recall_1: 0.5147 - val_binary_accuracy: 0.6047\n",
      "Epoch 12/30\n",
      "1257/1257 [==============================] - 2s 2ms/step - loss: 0.6531 - accuracy: 0.6021 - auc: 0.6501 - precision_1: 0.6207 - recall_1: 0.5281 - binary_accuracy: 0.6021 - val_loss: 0.6617 - val_accuracy: 0.5942 - val_auc: 0.6358 - val_precision_1: 0.6337 - val_recall_1: 0.4528 - val_binary_accuracy: 0.5942\n",
      "Epoch 13/30\n",
      "1257/1257 [==============================] - 2s 2ms/step - loss: 0.6532 - accuracy: 0.6034 - auc: 0.6509 - precision_1: 0.6235 - recall_1: 0.5251 - binary_accuracy: 0.6034 - val_loss: 0.6566 - val_accuracy: 0.6000 - val_auc: 0.6477 - val_precision_1: 0.6146 - val_recall_1: 0.5432 - val_binary_accuracy: 0.6000\n",
      "Epoch 14/30\n",
      "1257/1257 [==============================] - 2s 2ms/step - loss: 0.6530 - accuracy: 0.6027 - auc: 0.6507 - precision_1: 0.6215 - recall_1: 0.5284 - binary_accuracy: 0.6027 - val_loss: 0.6573 - val_accuracy: 0.6008 - val_auc: 0.6464 - val_precision_1: 0.6273 - val_recall_1: 0.5032 - val_binary_accuracy: 0.6008\n",
      "Epoch 15/30\n",
      "1257/1257 [==============================] - 2s 2ms/step - loss: 0.6528 - accuracy: 0.6044 - auc: 0.6514 - precision_1: 0.6268 - recall_1: 0.5190 - binary_accuracy: 0.6044 - val_loss: 0.6578 - val_accuracy: 0.6029 - val_auc: 0.6484 - val_precision_1: 0.6039 - val_recall_1: 0.6063 - val_binary_accuracy: 0.6029\n",
      "Epoch 16/30\n",
      "1257/1257 [==============================] - 2s 2ms/step - loss: 0.6524 - accuracy: 0.6037 - auc: 0.6518 - precision_1: 0.6217 - recall_1: 0.5327 - binary_accuracy: 0.6037 - val_loss: 0.6604 - val_accuracy: 0.6002 - val_auc: 0.6451 - val_precision_1: 0.6194 - val_recall_1: 0.5266 - val_binary_accuracy: 0.6002\n",
      "Epoch 17/30\n",
      "1257/1257 [==============================] - 2s 2ms/step - loss: 0.6522 - accuracy: 0.6055 - auc: 0.6528 - precision_1: 0.6254 - recall_1: 0.5289 - binary_accuracy: 0.6055 - val_loss: 0.6558 - val_accuracy: 0.6019 - val_auc: 0.6500 - val_precision_1: 0.6295 - val_recall_1: 0.5020 - val_binary_accuracy: 0.6019\n",
      "Epoch 18/30\n",
      "1257/1257 [==============================] - 2s 2ms/step - loss: 0.6521 - accuracy: 0.6046 - auc: 0.6528 - precision_1: 0.6249 - recall_1: 0.5261 - binary_accuracy: 0.6046 - val_loss: 0.6567 - val_accuracy: 0.6033 - val_auc: 0.6487 - val_precision_1: 0.6142 - val_recall_1: 0.5630 - val_binary_accuracy: 0.6033\n",
      "Epoch 19/30\n",
      "1257/1257 [==============================] - 2s 2ms/step - loss: 0.6520 - accuracy: 0.6052 - auc: 0.6529 - precision_1: 0.6236 - recall_1: 0.5333 - binary_accuracy: 0.6052 - val_loss: 0.6559 - val_accuracy: 0.6059 - val_auc: 0.6502 - val_precision_1: 0.6327 - val_recall_1: 0.5115 - val_binary_accuracy: 0.6059\n",
      "Epoch 20/30\n",
      "1257/1257 [==============================] - 2s 2ms/step - loss: 0.6520 - accuracy: 0.6064 - auc: 0.6536 - precision_1: 0.6275 - recall_1: 0.5264 - binary_accuracy: 0.6064 - val_loss: 0.6581 - val_accuracy: 0.6021 - val_auc: 0.6450 - val_precision_1: 0.6122 - val_recall_1: 0.5646 - val_binary_accuracy: 0.6021\n",
      "Epoch 21/30\n",
      "1257/1257 [==============================] - 2s 2ms/step - loss: 0.6518 - accuracy: 0.6053 - auc: 0.6532 - precision_1: 0.6236 - recall_1: 0.5340 - binary_accuracy: 0.6053 - val_loss: 0.6572 - val_accuracy: 0.6041 - val_auc: 0.6467 - val_precision_1: 0.6272 - val_recall_1: 0.5202 - val_binary_accuracy: 0.6041\n",
      "Epoch 22/30\n",
      "1257/1257 [==============================] - 2s 2ms/step - loss: 0.6519 - accuracy: 0.6053 - auc: 0.6536 - precision_1: 0.6228 - recall_1: 0.5370 - binary_accuracy: 0.6053 - val_loss: 0.6573 - val_accuracy: 0.6057 - val_auc: 0.6495 - val_precision_1: 0.6157 - val_recall_1: 0.5698 - val_binary_accuracy: 0.6057\n",
      "Epoch 23/30\n",
      "1257/1257 [==============================] - 2s 2ms/step - loss: 0.6514 - accuracy: 0.6067 - auc: 0.6543 - precision_1: 0.6247 - recall_1: 0.5374 - binary_accuracy: 0.6067 - val_loss: 0.6562 - val_accuracy: 0.5992 - val_auc: 0.6489 - val_precision_1: 0.6117 - val_recall_1: 0.5504 - val_binary_accuracy: 0.5992\n",
      "Epoch 24/30\n",
      "1257/1257 [==============================] - 2s 2ms/step - loss: 0.6516 - accuracy: 0.6055 - auc: 0.6536 - precision_1: 0.6239 - recall_1: 0.5339 - binary_accuracy: 0.6055 - val_loss: 0.6580 - val_accuracy: 0.6067 - val_auc: 0.6495 - val_precision_1: 0.6084 - val_recall_1: 0.6063 - val_binary_accuracy: 0.6067\n",
      "Epoch 25/30\n",
      "1257/1257 [==============================] - 2s 2ms/step - loss: 0.6514 - accuracy: 0.6067 - auc: 0.6546 - precision_1: 0.6261 - recall_1: 0.5325 - binary_accuracy: 0.6067 - val_loss: 0.6585 - val_accuracy: 0.5970 - val_auc: 0.6456 - val_precision_1: 0.6416 - val_recall_1: 0.4457 - val_binary_accuracy: 0.5970\n",
      "Epoch 26/30\n",
      "1257/1257 [==============================] - 2s 2ms/step - loss: 0.6511 - accuracy: 0.6066 - auc: 0.6551 - precision_1: 0.6254 - recall_1: 0.5344 - binary_accuracy: 0.6066 - val_loss: 0.6566 - val_accuracy: 0.5950 - val_auc: 0.6461 - val_precision_1: 0.5987 - val_recall_1: 0.5845 - val_binary_accuracy: 0.5950\n",
      "Epoch 27/30\n",
      "1257/1257 [==============================] - 2s 2ms/step - loss: 0.6510 - accuracy: 0.6083 - auc: 0.6550 - precision_1: 0.6277 - recall_1: 0.5350 - binary_accuracy: 0.6083 - val_loss: 0.6577 - val_accuracy: 0.6051 - val_auc: 0.6488 - val_precision_1: 0.6139 - val_recall_1: 0.5738 - val_binary_accuracy: 0.6051\n",
      "Epoch 28/30\n",
      "1257/1257 [==============================] - 2s 2ms/step - loss: 0.6509 - accuracy: 0.6070 - auc: 0.6553 - precision_1: 0.6240 - recall_1: 0.5412 - binary_accuracy: 0.6070 - val_loss: 0.6596 - val_accuracy: 0.5988 - val_auc: 0.6484 - val_precision_1: 0.6556 - val_recall_1: 0.4219 - val_binary_accuracy: 0.5988\n",
      "Epoch 29/30\n",
      "1257/1257 [==============================] - 2s 2ms/step - loss: 0.6506 - accuracy: 0.6066 - auc: 0.6557 - precision_1: 0.6253 - recall_1: 0.5350 - binary_accuracy: 0.6066 - val_loss: 0.6558 - val_accuracy: 0.6014 - val_auc: 0.6508 - val_precision_1: 0.6321 - val_recall_1: 0.4913 - val_binary_accuracy: 0.6014\n",
      "Epoch 30/30\n",
      "1257/1257 [==============================] - 2s 2ms/step - loss: 0.6504 - accuracy: 0.6083 - auc: 0.6563 - precision_1: 0.6273 - recall_1: 0.5361 - binary_accuracy: 0.6083 - val_loss: 0.6557 - val_accuracy: 0.6035 - val_auc: 0.6507 - val_precision_1: 0.6321 - val_recall_1: 0.5020 - val_binary_accuracy: 0.6035\n",
      "m parameter 15653\n",
      "loss :  0.6517767310142517\n",
      "acc :  0.6153540015220642\n",
      "auc :  0.6592057943344116\n",
      "precision :  0.6384497880935669\n",
      "recall :  0.5054501295089722\n",
      "binary_accuracy :  0.6153540015220642\n",
      "f1_score :  0.5642181157827421\n"
     ]
    }
   ],
   "source": [
    "hist = lstm_model.fit(X_train, Y_train, epochs=30, batch_size=32, validation_data=(X_val, Y_val))\n",
    "\n",
    "loss, acc, auc, precision, recall, binary_accuracy = lstm_model.evaluate(X_test, Y_test, verbose=0)\n",
    "print(\"m parameter\", lstm_model.count_params())\n",
    "print('loss : ', loss)\n",
    "print('acc : ', acc)\n",
    "print('auc : ', auc)\n",
    "print('precision : ', precision)\n",
    "print('recall : ', recall)\n",
    "print('binary_accuracy : ', binary_accuracy)\n",
    "#print f1-score with calculate recall precision\n",
    "\n",
    "f1_score = (2 * precision * recall) / (precision + recall)\n",
    "print('f1_score : ', f1_score)"
   ]
  }
 ],
 "metadata": {
  "kernelspec": {
   "display_name": "myenv2",
   "language": "python",
   "name": "python3"
  },
  "language_info": {
   "codemirror_mode": {
    "name": "ipython",
    "version": 3
   },
   "file_extension": ".py",
   "mimetype": "text/x-python",
   "name": "python",
   "nbconvert_exporter": "python",
   "pygments_lexer": "ipython3",
   "version": "3.10.8"
  },
  "orig_nbformat": 4
 },
 "nbformat": 4,
 "nbformat_minor": 2
}
